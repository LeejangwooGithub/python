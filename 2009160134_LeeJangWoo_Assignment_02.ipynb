{
 "metadata": {
  "name": "",
  "signature": "sha256:962b4ecaf48b817efe12de10124f70d65960ac5b50c99f9689661222383ca333"
 },
 "nbformat": 3,
 "nbformat_minor": 0,
 "worksheets": [
  {
   "cells": [
    {
     "cell_type": "code",
     "collapsed": false,
     "input": [
      "print 1 and 2 and 3 and 4\n",
      "print 4 and 3 and 2 and 1\n",
      "print 1 or 2 or 3 or 4\n",
      "print 4 or 3 or 2 or 1\n",
      "print 1 and 2 or 3 and 4\n",
      "print (1 and 2) or (3 and 4)\n",
      "print 1 or 2 and 3 or 4\n",
      "print (1 or 2) and (3 or 4)\n"
     ],
     "language": "python",
     "metadata": {},
     "outputs": [
      {
       "output_type": "stream",
       "stream": "stdout",
       "text": [
        "02_01\n",
        "4\n",
        "1\n",
        "1\n",
        "4\n",
        "2\n",
        "2\n",
        "1\n",
        "3\n"
       ]
      }
     ],
     "prompt_number": 1
    },
    {
     "cell_type": "markdown",
     "metadata": {},
     "source": [
      "and\ub294 \uc6b0 or \ub294 \uc88c\uce21 \uac12\uc744 \ubc18\ud658\ud55c\ub2e4.\n",
      "\uad04\ud638\uac00 \uc5c6\ub294 \uc5f0\uc0b0\uc740 and\ubd80\ud130 \ud55c\ub2e4.\n",
      "\uc774 \uaddc\uce59\uc5d0 \ub530\ub77c \uacb0\uacfc\uac00 \uc2e4\ud589\ub41c\ub2e4."
     ]
    },
    {
     "cell_type": "code",
     "collapsed": false,
     "input": [
      "print 7/5\n",
      "print -7/5\n",
      "print -(7/5)"
     ],
     "language": "python",
     "metadata": {},
     "outputs": [
      {
       "output_type": "stream",
       "stream": "stdout",
       "text": [
        "1\n",
        "-2\n",
        "-1\n"
       ]
      }
     ],
     "prompt_number": 2
    },
    {
     "cell_type": "markdown",
     "metadata": {},
     "source": [
      "1.2 = 1.0 + 0.2 -> \uc18c\uc218\uc810 \ubc84\ub9bc -> int \uac12\uc73c\ub85c 1\n",
      "-1.2 = -2.0 + 0.8 -> \uc18c\uc218\uc810 \ubc84\ub9bc -> int \uac12\uc73c\ub85c -2\n",
      "-(1.2) = -(1.0 + 0.2) -> \uc18c\uc218\uc810 \ubc84\ub9bc -> int \uac12\uc73c\ub85c -1"
     ]
    },
    {
     "cell_type": "code",
     "collapsed": false,
     "input": [
      "num = input('num :')#\uc22b\uc790\ub97c \uc785\ub825\ud55c\ub2e4.\n",
      "n=7\n",
      "\n",
      "while(1):#\uba87\ube44\ud2b8? \uacc4\uc0b0\ud558\uc5ec \uadf8 \uc218\ub9cc\ud07c \ub9ac\ud134\n",
      "    if( pow(2,n) > num and (-1 * pow(2,n)) <= num):\n",
      "        break\n",
      "    else:\n",
      "        n = n+1\n",
      "        \n",
      "\n",
      "res = num >> n\n",
      "if(res == -1):\n",
      "    print \"num : \",\n",
      "    print num,\n",
      "    print \"\uc740 \uc74c\uc218\uc785\ub2c8\ub2e4.\"\n",
      " \n",
      "else:\n",
      "    print \"num : \",\n",
      "    print num,\n",
      "    print \"\uc740 \uc591\uc218\uc785\ub2c8\ub2e4.\""
     ],
     "language": "python",
     "metadata": {},
     "outputs": [
      {
       "name": "stdout",
       "output_type": "stream",
       "stream": "stdout",
       "text": [
        "num :-777458745\n"
       ]
      },
      {
       "output_type": "stream",
       "stream": "stdout",
       "text": [
        "num :  -777458745 \uc740 \uc74c\uc218\uc785\ub2c8\ub2e4.\n"
       ]
      }
     ],
     "prompt_number": 3
    },
    {
     "cell_type": "markdown",
     "metadata": {},
     "source": [
      "n = 8\uc740 \ucd5c\ucd08 \ube44\ud2b8\uc5f0\uc0b0\uc774 8\ubd80\ud130 \uc2dc\uc791\ud558\uae30 \ub54c\ubb38\uc774\ub2e4(int)\n",
      "n = n+1\uc744 \uc2e4\ud589\ud558\ub294 \uac83\uc740 long\ud615\uc758 \ube44\ud2b8 \uc99d\uac00\ud0d3\uc774\ub2e4.\n",
      "\ube44\ud2b8\uc5f0\uc0b0\uc790\ub294 -1\uc744 \ubc18\ud658\ud558\uac8c \ub418\ub294\ub370 \ubd80\ud638 \ub54c\ubb38\uc774\ub77c\uace0 \uc0dd\uac01\ud569\ub2c8\ub2e4 \ub530\ub85c \uc9c8\ubb38\ud558\uaca0\uc2b5\ub2c8\ub2e4."
     ]
    },
    {
     "cell_type": "code",
     "collapsed": false,
     "input": [
      "def list_union(a,b):\n",
      "    res = b\n",
      "    \n",
      "    length_a = len(a)\n",
      "    length_b = len(b)\n",
      "    \n",
      "    for i in range(length_a):\n",
      "        ckr = True\n",
      "        for j in range(length_b):\n",
      "            if(a[i] == b[j]):\n",
      "                ckr = False\n",
      "        if(ckr == True):\n",
      "            res.append(a[i])\n",
      "  \n",
      "    res.sort()\n",
      "    print res\n",
      "list_union([10,3,5,7,9], [1,2,3,4,5])"
     ],
     "language": "python",
     "metadata": {},
     "outputs": [
      {
       "output_type": "stream",
       "stream": "stdout",
       "text": [
        "[1, 2, 3, 4, 5, 7, 9, 10]\n"
       ]
      }
     ],
     "prompt_number": 7
    },
    {
     "cell_type": "markdown",
     "metadata": {},
     "source": [
      "\uc77c\ub2e8 b\ubc30\uc5f4\uc744 res\uc5d0 \ucd94\uac00\ud55c \ud6c4, \ub450 \ubc30\uc5f4\uc758 \uae38\uc774\ub97c \uc54c\uc544\ub0b4\uc5b4 \ubc18\ubcf5\ubb38 \ubc94\uc704\ub97c \uc124\uc815\ud558\uace0, b\uc5d0 a\uc758 \uc6d0\uc18c\uac00 \uc788\ub294\uc9c0\ub97c \ud310\ub2e8\ud558\uc5ec \uc874\uc7ac\ud558\uc9c0 \uc54a\uc73c\uba74 a\uc758 \uc6d0\uc18c\ub97c res\uc5d0 \ucd94\uac00\ud55c\ub2e4"
     ]
    },
    {
     "cell_type": "code",
     "collapsed": false,
     "input": [
      "def div_path(add):\n",
      "    res_add = add.split('/')\n",
      "    res_file =  res_add[len(res_add)-1]\n",
      "    res_02 = add.split('/' + res_file)\n",
      "    res_02.append(res_file)\n",
      "    res_02.remove('')\n",
      "    print res_02\n",
      "    \n",
      "div_path('/usr/local/bin/python')\n",
      "div_path('/home/chulsoo/test.txt')"
     ],
     "language": "python",
     "metadata": {},
     "outputs": [
      {
       "output_type": "stream",
       "stream": "stdout",
       "text": [
        "['/usr/local/bin', 'python']\n",
        "['/home/chulsoo', 'test.txt']\n"
       ]
      }
     ],
     "prompt_number": 9
    },
    {
     "cell_type": "markdown",
     "metadata": {},
     "source": [
      "'/'\ub85c \ubb38\uc790\uc5f4 \ub098\ub208\ub2e4.\n",
      "(\ub098\ub208 \ubb38\uc790 \uac2f\uc218)-1 \uc758 \ubc88\uc9c0\uc5d0\uc788\ub294 \ub2e8\uc5b4\uac00 \ud30c\uc77c\uc774\ub984\uc784\uc744 \ucc38\uace0\ud558\uc5ec \ucf54\ub4dc\ub97c \uc9c4\ud589\ud55c\ub2e4.\n",
      "\ucc98\uc74c \ubc1b\uc740 \ubb38\uc7a5\uc744 '/'+\ud30c\uc77c\uc774\ub984\uc73c\ub85c \ub098\ub204\uba74 \uc8fc\uc18c\ub9cc \ub0a8\uc74c.\n",
      "\uc8fc\uc18c\ub9cc \ub0a8\uc740 \ubc30\uc5f4\uc5d0 \ud30c\uc77c\uc774\ub984\uc744 append\ud574\uc900\ub2e4\n",
      "\ucd94\ucd9c\ub41c \uacf5\ubc31 \uc6d0\uc18c\ub97c \uc81c\uac70\ud558\ub294 \uc5ed\ud560"
     ]
    },
    {
     "cell_type": "code",
     "collapsed": false,
     "input": [
      "import urllib\n",
      "\n",
      "source = urllib.urlopen(\"http://cse.kut.ac.kr/\").read()\n",
      "\n",
      "len_source = len(source)\n",
      "print \"Initial length of source:\", len_source\n",
      "\n",
      "i = 0\n",
      "while (i<len_source):\n",
      "\tif (source[i] == \"<\" and source[i+1 : i+7].lower() == \"script\"):\n",
      "\t\tj = i + 7;\n",
      "\t\twhile (True):\n",
      "\t\t\tif (source[j] == \"/\" and source[j+1 : j+7].lower() == \"script\"):\n",
      "\t\t\t\tsource = source[:i] + ' ' + source[j+8:]\n",
      "\t\t\t\tbreak\n",
      "\t\t\tj = j + 1\n",
      "\t\t\tif (j > len_source):\n",
      "\t\t\t\tbreak\n",
      "\t\tlen_source = len(source)\n",
      "\n",
      "\ti = i + 1\n",
      "\n",
      "len_source = len(source)\n",
      "\n",
      "i = 0\n",
      "while (i < len_source):\n",
      "\tif (source[i] == \"<\" and source[i+1 : i+6].lower() == \"style\"):\n",
      "\t\tj = i + 6;\n",
      "\t\twhile (True):\n",
      "\t\t\tif (source[j] == \"/\" and source[j+1 : j+6].lower() == \"style\"):\n",
      "\t\t\t\tsource = source[:i] + ' ' + source[j+7:]\n",
      "\t\t\t\tbreak\n",
      "\t\t\tj = j + 1\n",
      "\t\t\tif (j > len_source):\n",
      "\t\t\t\tbreak\n",
      "\t\tlen_source = len(source)\n",
      "\ti = i + 1\n",
      "\n",
      "len_source = len(source)\n",
      "\n",
      "i = 0\n",
      "while (i < len_source):\n",
      "\tfound = False\n",
      "\tif (source[i] == \"<\"):\n",
      "\t\tfound = True;\n",
      "\t\tj = i + 1;\n",
      "\t\twhile (True):\n",
      "\t\t\tif (source[j] == \">\"):\n",
      "\t\t\t\tsource = source[:i] + ' ' + source[j+1:]\n",
      "\t\t\t\tbreak\n",
      "\t\t\tj = j + 1\n",
      "\t\t\tif (j > len_source):\n",
      "\t\t\t\tbreak\n",
      "\t\tlen_source = len(source)\n",
      "\ti = i + 1\n",
      "\n",
      "len_source = len(source)\n",
      "print \"Last length of source:\", len_source\n",
      "\n",
      "words = source.split()\n",
      "\n",
      "\n",
      "print \"Total num of plain words:\", len(words)\n",
      "\n",
      "for word in words:\n",
      "    print '\"' + word + '\" ',"
     ],
     "language": "python",
     "metadata": {},
     "outputs": [
      {
       "output_type": "stream",
       "stream": "stdout",
       "text": [
        "Initial length of source: 36179\n",
        "Last length of source:"
       ]
      },
      {
       "output_type": "stream",
       "stream": "stdout",
       "text": [
        " 5404\n",
        "Total num of plain words: 193\n",
        "\"\ucef4\ud4e8\ud130\uacf5\ud559\ubd80\"  \"\ud648\ud398\uc774\uc9c0\"  \"\ucef4\ud4e8\ud130\uacf5\ud559\ubd80\"  \":\"  \"\uad50\uc721\ubaa9\ud45c\"  \":\"  \"\ucc3e\uc544\uc624\uc2dc\ub294\uae38\"  \":\"  \"\uc878\uc5c5\uc791\ud488\"  \":\"  \"\uacf5\ud559\uc124\uacc4\"  \":\"  \"\ucde8\uc5c5\uc870\uc0ac2014\"  \":\"  \"\ucde8\uc5c5\uc870\uc0ac2013\"  \"\uad50\uc218\uc9c4\"  \":\"  \"\ud559\uc0dd\ud68c\"  \"\uc878\uc5c5\uc774\uc218\uc694\uac74\"  \":\"  \"\ucef4\ud4e8\ud130S/W\"  \":\"  \"\ucef4\ud4e8\ud130H/W\"  \":\"  \"\ucef4\ud4e8\ud130\uc2a4\ub9c8\ud2b8IT\"  \":\"  \"\ucef4\ud4e8\ud130\uc2dc\uc2a4\ud15c\uc751\uc6a9\"  \":\"  \"\uc7a5\ud559\uc81c\ub3c4\"  \"\ubaa8\uc9d1\uc694\uac15\"  \":\"  \"\uc785\uc2dcQ&A\"  \"\uacf5\uc9c0\uc0ac\ud56d\"  \":\"  \"\uc790\uc720\uac8c\uc2dc\ud310\"  \":\"  \"\uc775\uba85\uac8c\uc2dc\ud310\"  \":\"  \"\ucde8\uc5c5\uac8c\uc2dc\ud310\"  \":\"  \"\ub3d9\ubb38\uac8c\uc2dc\ud310\"  \":\"  \"\uc0ac\uc9c4\uac8c\uc2dc\ud310\"  \":\"  \"\ud559\ubd80\uc0ac\uc9c4\uac94\ub7ec\ub9ac\"  \":\"  \"\uace0\uc7a5\uc2e0\uace0\uac8c\uc2dc\ud310\"  \"\uac15\uc758\uc790\ub8cc\uc2e4\"  \":\"  \"\uc77c\ubc18\uc790\ub8cc\uc2e4\"  \":\"  \"\uc11c\uc2dd\ubc0f\uc591\uc2dd\uc790\ub8cc\uc2e4\"  \"\ub300\ud559\uc6d0\uc18c\uac1c\"  \":\"  \"\uc5f0\uad6c\uc2e4\uc18c\uac1c\"  \":\"  \"\ub300\ud559\uc6d0\uac8c\uc2dc\ud310\"  \"\uacf5\ud559\uc778\uc99d\uc548\ub0b4\"  \":\"  \"\uacf5\ud559\uc778\uc99d\uac8c\uc2dc\ud310\"  \":\"  \"C++\"  \"2014/03/27\"  \"\uacf5\ud559\uc124\uacc4\"  \"\ud3ec\uc2a4\ud130\ubc1c\ud45c\uacbd\uc9c4\ub300\ud68c\"  \"\ud22c\ud45c...\"  \"2013/12/10\"  \"2013\ub144\"  \"\uc878\uc5c5\uc791\ud488\"  \"\ube0c\ub85c\uc154\"  \"2013/10/07\"  \"\uc81c\"  \"4\ub300\"  \"\ucef4\ud4e8\ud130\uacf5\ud559\ubd80\"  \"\ud559\ud68c\uc7a5/\ubd80\ud559...\"  \"2012/11/05\"  \"\ub514\uc9c0\ud138\"  \"\uc2dc\uc2a4\ud15c\"  \"\uc124\uacc41-\"  \"[\uc2e4\uc2b5-\uc870\uad50]\"  \"2012/09/09\"  \"\uc18c\ud504\ud2b8\uc6e8\uc5b4\"  \"\uac1c\ubc1c\ubcf4\uc548\"  \"\uacbd\uc9c4\ub300\ud68c\"  \"\uac1c\ucd5c\"  \"2014/10/01\"  \"2015\ub144\"  \"\uc0c1\ubc18\uae30\"  \"\uc0bc\uc131\"  \"\uc18c\ud504\ud2b8\uc6e8\uc5b4\"  \"...\"  \"2014/09/25\"  \"\uacfc\"  \"\uc7a0\ubc14\"  \"\ubd88\ucd9c\uacf5\uc9c0\uc785\ub2c8\ub2e4!!\"  \"2014/09/23\"  \"9/18\"  \"NHN\"  \"Entertainment\"  \"\ucea0\ud37c\uc2a4\"  \"...\"  \"2014/09/17\"  \"\ucef4\ud4e8\ud130\uacf5\ud559\ubd80\"  \"\ud559\uc220\"  \"\uc18c\ubaa8\uc784\"  \"\uc528\uc557(S...\"  \"2014/09/07\"  \"\uc138\ub9bc\ud2f0\ub124\uc2a4\uc9c0(\uc8fc)\"  \"\uc778\ub825\"  \"\ucc44\uc6a9\"  \"\uacf5\uace0\"  \"2014/09/30\"  \"(\uc8fc)\uc5e0\ud504\ub860\ud2f0\uc5b4\"  \"\uc2dc\uc2a4\ud15c\"  \"\uc6b4\uc601/\uac1c\ubc1c\"  \"...\"  \"2014/09/15\"  \"\ucef4\ud4e8\ud130\uacf5\ud559\ubd80\"  \"\ud559\ubd80\uc0ac\ubb34\uc2e4\"  \"\uccad\ub144\uc778\ud134...\"  \"2014/08/06\"  \"(\uc8fc)\uc2e0\uc9c4\uc5e0\ud14d\"  \"2014/06/16\"  \"\uc5d1\uc2dc\ucf58\"  \"\uae30\uc220\uc601\uc5c5\"  \"\ucc44\uc6a9.\"  \"-\"  \"\uaf2d\"  \"\uc9c0\ub3c4...\"  \"2014/04/18\"  \"2014\ub144\"  \"\uc878\uc5c5...\"  \"\uae40\uc7ac\uc6b0\ucc98\uc7a5...\"  \"2014\ub144\"  \"\uc2a4\uc2b9...\"  \"2014\ub144\"  \"\uc878\uc5c5\uc791\ud488\"  \"\ucd5c\uc885\uacb0\uacfc\"  \"\ubc1c\ud45c\"  \"2014/10/01\"  \"[\ud2b9\uc131\ud654\uc0ac\uc5c5\ub2e8]\ud29c\ud130\ub9c1\"  \"\ud504\ub85c\uadf8\ub7a8\"  \"...\"  \"2014/09/29\"  \"(\uacf5\uc9c0)2014\ub144\"  \"\uc878\uc5c5\uc791\ud488\"  \"\uc601\uc5b4\ubc1c\ud45c\"  \"...\"  \"2014/09/25\"  \"[\ud2b9\uc131\ud654\uc0ac\uc5c5\ub2e8]\"  \"IT\uacbd\uc9c4\ub300\ud68c\"  \"\ucc38\uac00\uc9c0\uc6d0\"  \"2014/09/25\"  \"\uae34\uae09]\"  \"\uc878\uc5c5\uc791\ud488\ube0c\ub85c\uc154\"  \"\uac80\ud1a0\"  \"2014/09/25\"  \"\ub808\ub4dc\ud587\"  \"\ucc4c\ub9b0\uc9c0\"  \"\uc548\ub0b4\"  \"2014/09/23\"  \"[\ud2b9\uc131\ud654\uc0ac\uc5c5\ub2e8]\"  \"\ud574\uc678(\uc77c\ubcf8)\"  \"\uae30\uc220...\"  \"2014/09/23\"  \"KBS,\"  \"HEVC\"  \"\uad6d\uc81c\ud45c\uc900\"  \"\ud2b9\ud5c8\"  \"\ucde8\ub4dd\"  \"2014-10-01\"  \"SK\ud154\ub808\ucf64,\"  \"UN\uad70\"  \"\uc804\uc0c1\uc790\"  \"\ucd08\uccad\"  \"ICT...\"  \"2014-10-01\"  \"\ub2e8\ud1b5\ubc95\"  \"\uc2dc\ud589\"  \"\uccab\ub0a0,\"  \"\ud55c\uc0b0\ud55c\"  \"\ubd84\uc704\uae30...\"  \"2014-10-01\"  \"\uc54c\uce74\ud154\ub8e8\uc2a8\ud2b8,\"  \"\uc5d4\ud130\ud504\ub77c\uc774\uc988\"  \"\uc0ac\uc5c5...\"  \"2014-10-01\"  \"\ucf00\uc774\ube14TV\"  \"\uc5c5\uacc4\"  \"\ubb34\uac8c\uc911\uc2ec\"  \"`\uc2a4\ub9c8\ud2b8\"  \"...\"  \"2014-10-01\" \n"
       ]
      }
     ],
     "prompt_number": 10
    },
    {
     "cell_type": "markdown",
     "metadata": {},
     "source": [
      "\uacb0\uad6d \uc774 \ucf54\ub4dc\ub294 \uc790\ub825\uc73c\ub85c \uc644\uc131\ud558\uc9c0 \ubabb\ud588\ub2e4. \uac1c\ub150 \uc790\uccb4\uac00 \uc774\ud574\uc548\ub418\ub294 \uac83\uc740 \uc544\ub2c8\ub2e4.\n",
      "source = source[:i] + ' ' + source[j+8:] \uc774 \ubd80\ubd84 \uc5d0\uc11c \uc6d0\ub798 \uad6c\ud604\ud558\ub824\uace0 \ud588\ub358 \ubc29\ubc95\uc740 remove\uc640 insert\uc600\uace0, \uc6d0\ub798\ub294 for\ubb38\uc744 \uc0ac\uc6a9\ud558\ub824\uace0 \ud588\uc73c\ub098, len_source \uac12\uc744 \ucd94\ucd9c\ud568\uc5d0 \uc788\uc5b4\uc11c \ubb54\uac00 \uc548\ub9de\ub294\ub2e4\uace0 \uc0dd\uac01\ud558\uc5ec while\ubb38\uc73c\ub85c \uad50\uccb4 \ud558\uc600\uc9c0\ub9cc \uacb0\uad6d \ubc18\ubcf5\ubb38 \ubc94\uc704\uc5d0\uc11c \uc5d0\ub7ec\ub97c \ubc1c\uc0dd\uc2dc\ucf1c \uacfc\uc81c\ub97c \uc81c\uc2dc\uac04\uc5d0 \uc81c\ucd9c\ud558\uc9c0 \ubabb\ud558\uac8c \ub418\uc5c8\uace0, \uc644\uc131\ub3c4 \ub610\ud55c \ub5a8\uc5b4\uc9c0\uac8c \ub418\uc5c8\ub2e4. \n",
      "\ubcf8 \ucf54\ub4dc\ub97c \ubd84\uc11d\ud568\uc5d0 \uc788\uc5b4\uc11c \ub0b4\uac00 \uac00\uc7a5 \ud070 \uc2e4\uc218\ub97c \ud588\ub2e4\uace0 \uc0dd\uac01\ud558\ub294 \ubd80\ubd84\uc740 \ubc18\ubcf5\ubb38 \uc911\uac04\uc5d0 len(source)\ub97c \uc548\ud588\ub2e4\ub294 \uc0ac\uc2e4\uc774\ub2e4. \ubb38\uc790\uc758 \uc7a6\uc740 \uc8fc\uc131\uc73c\ub85c \ubb38\uc790\uc5f4\uc758 \uae38\uc774\ub294 \ucd95\uc18c \ub420\ud150\ub370, \uadf8\uac83\uc744 \uac04\uacfc\ud558\uace0 \uace0\uc815\uc744 \uc2dc\ucf30\uae30 \ub54c\ubb38\uc774\ub2e4. \uadf8\ub9ac\uace0 \ub0a9\ub4dd\uc774 \uc798 \uc548\uac00\ub294 \ubd80\ubd84\uc740 while(True) \ub0b4\ubd80\uc5d0 if(i> len_source)\ub97c \uad6c\uc131\ud558\uc5ec break \uc218\ud589\uc744 \ud558\ub824\uace0 \ud558\uba74 \uc5d0\ub7ec\uac00 \uc798 \ubc1c\uc0dd\ud558\uac8c \ub41c\ub2e4. \uc774\uac74 \ucc98\ub9ac \ubb38\uc81c\uc774\uae30\ub3c4 \ud558\uaca0\uc9c0\ub9cc len_source \uac12\uc774 \ubc18\ud658\ub418\ub294 \uc2dc\uc810\uc5d0 \ubb38\uc81c\ub77c\uace0 \ucd94\uc815\ud55c\ub2e4. \uadf8\ub9ac\uace0 \"<script\" \ub97c \ucc3e\ub294\uac83\uc740 \uc624\ub958\uac00 \ub0a0 \uc218 \uc788\ub2e4\ub294 \uac83\uc744 \ud655\uc778\ud588\ub2e4. \ub300\ubb38\uc790\uc640 \uc18c\ub300\ubb38 \ud63c\ud569\uc758 \ubd88\uaddc\uce59\ud55c \ubb38\uc790\ub97c \ud639\uc2dc\ub098 \ubc1b\uc744 \uc218 \uc788\uae30 \ub54c\ubb38\uc774\ub2e4. \uad50\uc218\ub2d8\uaed8\uc11c \ub9cc\ub4e0 \uc800 \ubc29\uc2dd\uc774 \uc633\ub2e4\uace0 \uc0dd\uac01\ud55c\ub2e4. \"<script\"\ub97c \ucc3e\ub294\uac83\uc740 \uc548\ub41c\ub2e4."
     ]
    },
    {
     "cell_type": "markdown",
     "metadata": {},
     "source": [
      "\uc774\ubc88 \uacfc\uc81c\uc758 \uace0\ucc30 \ubcf4\ub2e4\ub294 \ubc18\uc131\uc774 \uc633\ub2e4\uace0 \uc0dd\uac01\ud55c\ub2e4. \uc774\ud574\uac00 \ubd80\uc871\ud558\ub2c8 \ucf54\ub4dc\uac00 \uc624\ub958\uac00 \ub098\uace0, \uc81c\uc2dc\uac04\uc5d0 \uc218\ud589\uc744 \ubabb\ud558\uac8c \ub41c \uac83 \uac19\ub2e4. \uc880 \uacf5\ubd80\uc880 \ud574\uc57c\uaca0\ub2e4\ub294 \uc0dd\uac01\uc744 \ud558\uac8c \ub418\uc5c8\ub2e4. \ube44\uad50\uc801 \uc26c\uc6b4 \uacfc\uc81c\ub4e4\uc740 \uc81c\uc2dc\uac04 \uc548\uc5d0 \ud560 \uc218 \uc788\uc5c8\ub294\ub370 \uc2dc\uac04\uc744 \uc9c8\uc9c8 \ub04c\ub2e4\uac00 \ubcf4\ub2c8 \uc774\ub807\uac8c \ub418\uc5c8\ub2e4. \ud2b9\ud788 \ubc18\ubcf5\ubb38\uc774\ub098 \uc815\uc218\ub97c \uc9c0\uc815\ud558\ub294 \uac83\uc5d0 \ub300\ud574\uc11c \ub0b4 \uc0dd\uac01\uacfc \ub2e4\ub974\uac8c \uc9c0\uc815\uc774 \ub418\ub294\uacbd\uc6b0\uac00 \uc788\ub294\ub370 \uc880\ub354 \uccb4\uacc4\uc801\uc73c\ub85c \ubb50\uac00 \ub2e4\ub978\uc9c0\ub97c \uc54c\uc544\uc57c \ub420 \uac83 \uac19\ub2e4. len_source\uc5d0 \ub300\ud574\uc11c\ub294 \ub2e4\uc2dc \uc54c\uc544\ubcf4\ub3c4\ub85d \ud558\uaca0\ub2e4."
     ]
    }
   ],
   "metadata": {}
  }
 ]
}