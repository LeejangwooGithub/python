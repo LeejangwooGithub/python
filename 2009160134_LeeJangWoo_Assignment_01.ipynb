{
 "metadata": {
  "name": "",
  "signature": "sha256:21dae747945864ebff41416de19ac4f50812c7b4e585af6276d2eef5b2c5c7aa"
 },
 "nbformat": 3,
 "nbformat_minor": 0,
 "worksheets": [
  {
   "cells": [
    {
     "cell_type": "code",
     "collapsed": false,
     "input": [
      "a = \"Hello Python\"\n",
      "a = a[6:12] + \" \" + a[0:5]\n",
      "print a"
     ],
     "language": "python",
     "metadata": {},
     "outputs": [
      {
       "output_type": "stream",
       "stream": "stdout",
       "text": [
        "Python Hello\n"
       ]
      }
     ],
     "prompt_number": 1
    },
    {
     "cell_type": "code",
     "collapsed": false,
     "input": [
      "# -*- coding: utf-8 -*-\n",
      "b = \"Hello Python World\"\n",
      "\n",
      "#1 b\uc5d0 Python Hello\uc800\uc7a5\n",
      "b1 = b[6:12] + \" \" + b[0:5]\n",
      "print \"b1 = \"+\"World \" + b1\n",
      "#2 b\uc5d0 World Python Hello \uc800\uc7a5\n",
      "b2 = b[13:18] + \" \" + b[6:12] + \" \" + b[0:5]\n",
      "print \"b2 = \" + b2\n",
      "#b\uc5d0 \uc800\uc7a5 \ud558\ub824\uba74 b1,b2\ub97c b\ub85c \ubc14\uafb8\uba74 \ub418\uc9c0\ub9cc, \uc77c\ub2e8 \ub450\uc885\ub958\ub85c \ub098\ub234\uae30 \ub54c\ubb38\uc5d0 b2\ub77c\ub294 \uc0c8 \ubcc0\uc218\ub97c \n",
      "#\uc0ac\uc6a9\ud588\uc2b5\ub2c8\ub2e4. \uc774\uc810 \ucc38\uace0\ud574 \uc8fc\uc2dc\uae30 \ubc14\ub78d\ub2c8\ub2e4. \n",
      "\n",
      "#\ubb38\uc81c\uc5d0\ub294 Python Hello \uae4c\uc9c0\ub9cc \uc800\uc7a5\ud558\ub77c\uace0 \ub418\uc5b4\uc788\ub294\ub370 \uc77c\ub2e8\n",
      "#\ubb38\uc81c\ub300\ub85c \ud558\ub418 World\uae4c\uc9c0 \ud558\ub294\uac83\uc744 \ub530\ub85c \uc791\uc131\ud558\uaca0\uc2b5\ub2c8\ub2e4. \uc624\ud0c0\uc778\uc9c0 \uc758\ub3c4\uc778\uc9c0 \ubaa8\ud638\ud558\uc600\uae30 \ub54c\ubb38\uc785\ub2c8\ub2e4."
     ],
     "language": "python",
     "metadata": {},
     "outputs": [
      {
       "output_type": "stream",
       "stream": "stdout",
       "text": [
        "b1 = World Python Hello\n",
        "b2 = World Python Hello\n"
       ]
      }
     ],
     "prompt_number": 2
    },
    {
     "cell_type": "code",
     "collapsed": false,
     "input": [
      "c = \"Hello\"\n",
      "c = c[::-1]\n",
      "print c"
     ],
     "language": "python",
     "metadata": {},
     "outputs": [
      {
       "output_type": "stream",
       "stream": "stdout",
       "text": [
        "olleH\n"
       ]
      }
     ],
     "prompt_number": 3
    },
    {
     "cell_type": "code",
     "collapsed": false,
     "input": [
      "s = \"Python\"\n",
      "print s[0]\n",
      "print s[0][0]\n",
      "print s[0][0][0]"
     ],
     "language": "python",
     "metadata": {},
     "outputs": [
      {
       "output_type": "stream",
       "stream": "stdout",
       "text": [
        "P\n",
        "P\n",
        "P\n"
       ]
      }
     ],
     "prompt_number": 4
    },
    {
     "cell_type": "markdown",
     "metadata": {},
     "source": [
      "\ud30c\uc774\uc36c\uc758 \uacbd\uc6b0\uc5d0\ub294 \ub2e4\ub978\uc5b8\uc5b4\uc758 \uc5c4\uaca9(\ud2b9\ud788 c\uc5b8\uc5b4)\ud558\ub2e4\uba74 \uadf8 \uc9c0\uc815 \ubc29\uc2dd\uc774 \uc0c1\ub300\uc801\uc73c\ub85c \uc720\ub3d9\uc801\uc774\ub2e4. \ub530\ub77c\uc11c 0\ubc88\uc9c0\uc758 0\ubc88\uc9c0\uc758 0\ubc88\uc9c0\ub97c \uac00\ub9ac\ud0a4\ub294 \uac83 \ub610\ud55c \uadf8\ub0e5 \ubb38\uc790\uc5f4\uc758 0\ubc88\uc9c0\ub97c \uac00\ub9ac\ud0a4\ub294 \uac83\uc73c\ub85c \uc778\uc2dd\ud558\uac8c \ub41c\ub2e4"
     ]
    },
    {
     "cell_type": "code",
     "collapsed": false,
     "input": [
      "s = \"Python\"\n",
      "print s[-100]\n",
      "print s[100]"
     ],
     "language": "python",
     "metadata": {},
     "outputs": [
      {
       "ename": "IndexError",
       "evalue": "string index out of range",
       "output_type": "pyerr",
       "traceback": [
        "\u001b[1;31m---------------------------------------------------------------------------\u001b[0m\n\u001b[1;31mIndexError\u001b[0m                                Traceback (most recent call last)",
        "\u001b[1;32m<ipython-input-5-6680fc8f8f09>\u001b[0m in \u001b[0;36m<module>\u001b[1;34m()\u001b[0m\n\u001b[0;32m      1\u001b[0m \u001b[0ms\u001b[0m \u001b[1;33m=\u001b[0m \u001b[1;34m\"Python\"\u001b[0m\u001b[1;33m\u001b[0m\u001b[0m\n\u001b[1;32m----> 2\u001b[1;33m \u001b[1;32mprint\u001b[0m \u001b[0ms\u001b[0m\u001b[1;33m[\u001b[0m\u001b[1;33m-\u001b[0m\u001b[1;36m100\u001b[0m\u001b[1;33m]\u001b[0m\u001b[1;33m\u001b[0m\u001b[0m\n\u001b[0m\u001b[0;32m      3\u001b[0m \u001b[1;32mprint\u001b[0m \u001b[0ms\u001b[0m\u001b[1;33m[\u001b[0m\u001b[1;36m100\u001b[0m\u001b[1;33m]\u001b[0m\u001b[1;33m\u001b[0m\u001b[0m\n",
        "\u001b[1;31mIndexError\u001b[0m: string index out of range"
       ]
      }
     ],
     "prompt_number": 5
    },
    {
     "cell_type": "markdown",
     "metadata": {},
     "source": [
      "-100\ubc88\uc9c0\uac00 \uc874\uc7ac\ud558\uc9c0 \uc54a\ub294\ub2e4 100\ubc88\uc9c0 \ub610\ud55c \uc874\uc7ac\ud558\uc9c0 \uc54a\ub294\ub2e4. \uadf8 \uc774\uc720\ub294 Python \uc740 \ucd1d 6\uc54c\ud30c\ubcb3\uc73c\ub85c \ub418\uc5b4\uc788\uc73c\ub2c8 0,1,2,3,4,5\ubc88\uc9c0\uac00 \uc874\uc7ac\ud558\uace0, 0,-1,-2,-3,-4,-5\uac00 \uc874\uc7ac\ud558\uae30 \ub54c\ubb38\uc5d0 \ubb38\uc790\uc5f4\uc758 \ud06c\uae30(\ubc94\uc704)\ub97c \ucd08\uacfc\ud558\uae30 \ub54c\ubb38\uc774\ub2e4."
     ]
    },
    {
     "cell_type": "code",
     "collapsed": false,
     "input": [
      "s = \"Python\"\n",
      "print s[-100, 100]"
     ],
     "language": "python",
     "metadata": {},
     "outputs": [
      {
       "ename": "TypeError",
       "evalue": "string indices must be integers, not tuple",
       "output_type": "pyerr",
       "traceback": [
        "\u001b[1;31m---------------------------------------------------------------------------\u001b[0m\n\u001b[1;31mTypeError\u001b[0m                                 Traceback (most recent call last)",
        "\u001b[1;32m<ipython-input-6-0c6c6455204c>\u001b[0m in \u001b[0;36m<module>\u001b[1;34m()\u001b[0m\n\u001b[0;32m      1\u001b[0m \u001b[0ms\u001b[0m \u001b[1;33m=\u001b[0m \u001b[1;34m\"Python\"\u001b[0m\u001b[1;33m\u001b[0m\u001b[0m\n\u001b[1;32m----> 2\u001b[1;33m \u001b[1;32mprint\u001b[0m \u001b[0ms\u001b[0m\u001b[1;33m[\u001b[0m\u001b[1;33m-\u001b[0m\u001b[1;36m100\u001b[0m\u001b[1;33m,\u001b[0m \u001b[1;36m100\u001b[0m\u001b[1;33m]\u001b[0m\u001b[1;33m\u001b[0m\u001b[0m\n\u001b[0m",
        "\u001b[1;31mTypeError\u001b[0m: string indices must be integers, not tuple"
       ]
      }
     ],
     "prompt_number": 6
    },
    {
     "cell_type": "markdown",
     "metadata": {},
     "source": [
      "\uc704\uc758 \ucf54\ub4dc\uc640 \ube44\uc2b7\ud55c \uc774\uc720\uc778\ub370, 100\ubc88\uc9c0\uc640-100\ubc88\uc9c0\ub294 \ud06c\uae30(\ubc94\uc704)\ucd08\uacfc\uc774\uae30 \ub54c\ubb38\uc5d0 \uc874\uc7ac\ud558\uc9c0 \uc54a\uc544\uc11c \ubc94\uc704 \uc9c0\uc815\uc774 \ubd88\uac00\ub2a5\ud558\ubbc0\ub85c \uc624\ub958\uac00 \ubc1c\uc0dd\ud55c\ub2e4."
     ]
    },
    {
     "cell_type": "code",
     "collapsed": false,
     "input": [
      "s = \"Python\"\n",
      "print s[1:-1]"
     ],
     "language": "python",
     "metadata": {},
     "outputs": [
      {
       "output_type": "stream",
       "stream": "stdout",
       "text": [
        "ytho\n"
       ]
      }
     ],
     "prompt_number": 7
    },
    {
     "cell_type": "markdown",
     "metadata": {},
     "source": [
      "s[1],s[0],s[-1] \uc774\ub77c\uace0 \uc0dd\uac01\ud560 \uc218 \uc788\uc9c0\ub9cc, -1\ubc88\uc9c0\ub294 4\ubc88\uc9c0\uc640 \uac19\ub2e4. \uc774\ud574\ud558\uae30 \uc27d\uac8c [a:b] a\uc5d0\uc11c b\uae4c\uc9c0\ub294 \uc67c\ucabd\uc5d0\uc11c \uc624\ub978\ucabd\uc73c\ub85c \uc21c\ucc28\uc99d\uac00\uc774\ub2e4."
     ]
    },
    {
     "cell_type": "code",
     "collapsed": false,
     "input": [
      "s = \"Python\"\n",
      "print s[3:-3]"
     ],
     "language": "python",
     "metadata": {},
     "outputs": [
      {
       "output_type": "stream",
       "stream": "stdout",
       "text": [
        "\n"
       ]
      }
     ],
     "prompt_number": 8
    },
    {
     "cell_type": "markdown",
     "metadata": {},
     "source": [
      "s[-3]\uc740 s[3]\uacfc \uac19\ub2e4. \uc989 3:3\uae4c\uc9c0\ucd9c\ub825\ud558\ub294 \uac83\uc774\ub2e4. \ucd9c\ub825\ud560 \ubb38\uc790\uc5f4\uc774 \uc5c6\ub2e4."
     ]
    },
    {
     "cell_type": "code",
     "collapsed": false,
     "input": [
      "a=1\n",
      "for i in range(20):\n",
      "    if(a%2 == 1):\n",
      "        print a\n",
      "    a = a+1   "
     ],
     "language": "python",
     "metadata": {},
     "outputs": [
      {
       "output_type": "stream",
       "stream": "stdout",
       "text": [
        "1\n",
        "3\n",
        "5\n",
        "7\n",
        "9\n",
        "11\n",
        "13\n",
        "15\n",
        "17\n",
        "19\n"
       ]
      }
     ],
     "prompt_number": 9
    },
    {
     "cell_type": "code",
     "collapsed": false,
     "input": [
      "a = 1\n",
      "sum = 0\n",
      "while a <= 100:\n",
      "    if(a%2 == 0):\n",
      "        sum += a\n",
      "    a = a+1\n",
      "    \n",
      "print sum"
     ],
     "language": "python",
     "metadata": {},
     "outputs": [
      {
       "output_type": "stream",
       "stream": "stdout",
       "text": [
        "2550\n"
       ]
      }
     ],
     "prompt_number": 12
    },
    {
     "cell_type": "code",
     "collapsed": false,
     "input": [
      "# -*- coding: utf-8 -*-\n",
      "num = int(raw_input('input num : '))\n",
      "cnt = 0\n",
      "\n",
      "for i in range(2,num+1):#1 <= i < num+1\uae4c\uc9c0\n",
      "    for j in range(2,i):#2 <= j < i \uae4c\uc9c0\n",
      "        if(i%j == 0):#i%j ==0 \uc774\uba74 \uce74\uc6b4\ud2b8 \uc62c\ub824\uc8fc\uace0, \n",
      "            cnt +=1\n",
      "            break#\uce74\uc6b4\ud2b8\uac00 \ud55c\ubc88\uc774\ub77c\ub3c4 \ub418\uba74 \ubc18\ubcf5\ubb38 \ud30c\uad34.\n",
      "            \n",
      "        if(cnt == 0 and j == i-1):\n",
      "            print i,\n",
      "            print \"\uc18c\uc218\uc785\ub2c8\ub2e4.\"\n",
      "    cnt = 0"
     ],
     "language": "python",
     "metadata": {},
     "outputs": [
      {
       "name": "stdout",
       "output_type": "stream",
       "stream": "stdout",
       "text": [
        "input num : 29\n"
       ]
      },
      {
       "output_type": "stream",
       "stream": "stdout",
       "text": [
        "3 \uc18c\uc218\uc785\ub2c8\ub2e4.\n",
        "5 \uc18c\uc218\uc785\ub2c8\ub2e4.\n",
        "7 \uc18c\uc218\uc785\ub2c8\ub2e4.\n",
        "11 \uc18c\uc218\uc785\ub2c8\ub2e4.\n",
        "13 \uc18c\uc218\uc785\ub2c8\ub2e4.\n",
        "17 \uc18c\uc218\uc785\ub2c8\ub2e4.\n",
        "19 \uc18c\uc218\uc785\ub2c8\ub2e4.\n",
        "23 \uc18c\uc218\uc785\ub2c8\ub2e4.\n",
        "29 \uc18c\uc218\uc785\ub2c8\ub2e4.\n"
       ]
      }
     ],
     "prompt_number": 11
    },
    {
     "cell_type": "markdown",
     "metadata": {},
     "source": [
      "range(a,b) a<= num <b \uae4c\uc9c0 \ubc18\ubcf5\ubb38 \uc218\ud589"
     ]
    },
    {
     "cell_type": "markdown",
     "metadata": {},
     "source": [
      " \uc774\ubc88 \uacfc\uc81c\uc5d0\uc11c\ub294 \ubc30\uc5f4\uc5d0 \uc811\uadfc\ud560 \ub54c \uc74c\uc758 \uc22b\uc790\ub85c\ub3c4 \uc811\uadfc\ud55c\ub2e4\ub294 \uc0ac\uc2e4\uc774 \ub2e4\ub978\uc5b8\uc5b4\uc640 \ub2ec\ub790\ub2e4. \ub610\ud55c \ubc18\ubcf5\ubb38\uc758 range\uac12\uc744 \uc124\uc815\ud558\ub294 \uc810\ub3c4 \uc77c\uc815\ubd80\ubd84 \ucc28\uc774\uac00 \uc788\uc5c8\uace0, \uadf8 \uac12\uc744 \uc81c\ub300\ub85c \ud30c\uc545\ud558\uace0\uc790 c\uc5b8\uc5b4\ub97c \uac19\uc740 \ubcc0\uc218\ub97c \uc8fc\uc5b4\uac00\uba74\uc11c \uc2e4\ud589, \ube44\uad50 \ud558\uc600\ub2e4. \uc9c0\uae08\uc740 \uc774\ud574\uac00 \uc798 \ub418\uc5c8\uc9c0\ub9cc \uc57d\uac04 \uaf2c\uc600\uc744 \ub54c\ub294 \ubb34\uc5c7\uc774 \ubb38\uc81c\uc778\uc9c0 \ucc3e\ub294\ub370\uc5d0 \uc2dc\uac04\uc774 \uac78\ub838\ub2e4. 1\ud559\ub144 c\uc5b8\uc5b4\ub97c \ubc30\uc6b8 \ub54c for\ubb38\uc744 \ucc98\uc74c \ubc30\uc6b4 \ub09c\ud574\ud568\uc744 \uc624\ub79c\ub9cc\uc5d0 \uc544\uc8fc \uc7a0\uc2dc\ub098\ub9c8 \ub290\uaef4\ubcf4\uc558\ub2e4. \uacfc\uc81c\ub97c \ud1b5\ud574 tuple\uacfc \ubc18\ubcf5\ubb38 range\uac12 \uc124\uc815 \uc815\ub3c4\uc758 \uac1c\ub150\uc740 \uc798 \uc54c\uc544\uac08 \uc218 \uc788\ub294 \uc2dc\uac04\uc774\uc5c8\ub2e4."
     ]
    }
   ],
   "metadata": {}
  }
 ]
}