{
 "metadata": {
  "name": "",
  "signature": "sha256:63a66f89d3be4770e05c84d0614e0c38112272397f0ed0d5e11a2b91f66851b4"
 },
 "nbformat": 3,
 "nbformat_minor": 0,
 "worksheets": [
  {
   "cells": [
    {
     "cell_type": "markdown",
     "metadata": {},
     "source": [
      "[1\ubc88 \ubb38\uc81c] \ud074\ub798\uc2a4\uc640 \ubaa8\ub4c8\uc758 \uacf5\ud1b5\uc810\uacfc \ucc28\uc774\uc810\uc5d0 \ub300\ud574 \uc124\uba85\ud558\uc2dc\uc624.\n",
      "\n",
      "-\uad00\ub828\uc6a9\uc5b4 \ub300\ub77d\uc801 \uc124\uba85-\n",
      "\ud074\ub798\uc2a4\n",
      "- \ubcc0\uc218\uc640 \ud568\uc218\ub97c \ubb36\uc5b4\ub193\uc740 \uc9d1\ud569\uccb4\uc758 \uac1c\ub150\n",
      "- \uc6d0\ud558\ub294 \uacb0\uacfc\ub97c \ucd9c\ub825\ud558\uae30\uc704\ud55c \ub3c4\uad6c\uc758 \uac1c\ub150\n",
      "\n",
      "\ubaa8\ub4c8\n",
      "-\ud30c\uc77c\ub2e8\uc704\ub85c \ucf54\ub4dc\ub4e4\uc744 \ubb36\ub294\ub2e4. \ube44\uc2b7\ud558\uac70\ub098 \uad00\ub828\ub41c \uc77c\uc744 \ud558\ub294 \uc0c1\uc218\uac12\ub4e4\uc744 \ubaa8\uc544\uc11c \ud558\ub098\uc758 \n",
      "\n",
      "\ud30c\uc77c\uc5d0 \uc800\uc7a5\ud558\uace0 \ucd94\ud6c4\uc5d0 \uc7ac \uc0ac\uc6a9\ud558\ub294 \ub2e8\uc704\n",
      "- \ucf54\ub4dc\uc758 \uc7ac\uc0ac\uc6a9\uc131\uc744 \uc99d\uac00\uc2dc\ud0a8\ub2e4\n",
      "- \uc5ec\ub7ec \ubaa8\ub4c8\uc744 \uc81c\uc791\ud558\uc5ec \uc7ac\uc0ac\uc6a9\uc131\uc744 \ub192\uc784\n",
      "\n",
      "- namespace\ub97c \ubcc4\ub3c4\ub85c \uc81c\uacf5\ud558\uc5ec \ub3d9\uc77c\ud55c \uc774\ub984\uc758 \uc5ec\ub7ec \ud568\uc218\ub098 \ubcc0\uc218\ub4e4\uc774 \uac01 \ubaa8\ub4c8\ub9c8\ub2e4 \ub3c5\ub9bd\uc801\uc73c\ub85c \uc815\uc758\ub420 \uc218 \uc788\ub2e4.\n",
      "\n",
      "namespace\n",
      "-\ubcc4\ub3c4\uc758 \ub3c5\ub9bd\ub41c \uac83\uc73c\ub85c, \ubaa8\ub4c8, \ud074\ub798\uc2a4, \uac1d\uccb4, \ud568\uc218\ub4f1\uc758 \uc774\ub984\uc744 \uc800\uc7a5\ud558\ub294 \uae30\ub2a5\uc744 \uc218\ud589\ud55c\n",
      "\n",
      "\ub2e4\n",
      "\n",
      "\ucc28\uc774\uc810\n",
      "- \ud30c\uc77c\ub2e8\uc704\ub85c namespace\ub97c \uad6c\uc131\ud558\ub290\ub0d0 \uc544\ub2c8\uba74 \uc601\uc5ed\ub0b4\ubd80\uc5d0 namespace\ub97c \uad6c\uc131\ud558\ub294\ub0d0\uc758 \ucc28\uc774\n",
      "- \ud638\ucd9c\ud560 \ub54c \ud074\ub798\uc2a4\ub294 \uc815\uc758\ub9cc\uc73c\ub85c\ub294 \ud638\ucd9c\uc774 \uc548\ub418\uace0, \ubc18\ub4dc\uc2dc \uc120\uc5b8(\ud074\ub798\uc2a4\uc0dd\uc131)\uc744 \ud574\uc57c \uae30\ub2a5\uc744 \uc774\uc6a9\ud560 \uc218 \uc788\ub2e4. \ud558\uc9c0\ub9cc \ubaa8\ub4c8\uc758 \uacbd\uc6b0\ub294 \ubc14\ub85c \ud638\ucd9c\uc774 \uac00\ub2a5\ud558\ub2e4."
     ]
    },
    {
     "cell_type": "code",
     "collapsed": false,
     "input": [
      "# -*- coding: utf-8 -*-\n",
      "#[2\ubc88 \ubb38\uc81c] \ub2e4\ud615\uc131\uc5d0 \ub300\ud574 \uc124\uba85\ud558\uace0 \ub2e4\ud615\uc131\uc744 \ubcf4\uc5ec\uc8fc\ub294 \uc790\uc2e0\ub9cc\uc758 \ud30c\uc774\uc36c \ucf54\ub4dc \uc608\uc81c\ub97c \uc81c\uc2dc\ud558\uc2dc\uc624.\n",
      "class lee:\n",
      "    def grade(self):\n",
      "        return 3.3\n",
      "    pass\n",
      "\n",
      "class kim(lee):\n",
      "    def grade(self):\n",
      "        return 4.1\n",
      "    pass\n",
      "class park(kim):\n",
      "    def grade(self):\n",
      "        return 2.8\n",
      "    pass\n",
      "\n",
      "for each in (lee(),kim(),park()):\n",
      "    print each.grade()"
     ],
     "language": "python",
     "metadata": {},
     "outputs": [
      {
       "output_type": "stream",
       "stream": "stdout",
       "text": [
        "3.3\n",
        "4.1\n",
        "2.8\n"
       ]
      }
     ],
     "prompt_number": 5
    },
    {
     "cell_type": "markdown",
     "metadata": {},
     "source": [
      "\uac04\ub2e8\ud55c \ub2e4\ud615\uc131 \ud14c\uc2a4\ud2b8\ub85c, \uc0c1\uc18d\uc5d0 \uc758\ud574 \uac19\uc740 \uc774\ub984\uc758 \ud568\uc218\uac00 \ub9ce\uc544\uc84c\uc9c0\ub9cc \ub9c8\uce58 c++\uc758 virtual\uc744 \uc801\uc6a9\ud55c \uac83 \ucc98\ub7fc \ud638\ucd9c\uc774 \ub41c\ub2e4"
     ]
    },
    {
     "cell_type": "code",
     "collapsed": false,
     "input": [
      "# -*- coding: utf-8 -*-\n",
      "#[3\ubc88 \ubb38\uc81c] \ub2e4\uc74c \uac01 \uc694\uad6c\uc0ac\ud56d \ubaa8\ub450\ub97c \ub9cc\uc871\uc2dc\ud0a4\ub294 Counter \ud074\ub798\uc2a4\ub97c \ucf54\ub529\ud558\uc2dc\uc624 (\uc815\ub2f5\uc744 \uac01 \uc694\uad6c\uc0ac\ud56d\ubcc4\ub85c \uc785\ub825\ud560 \ud544\uc694 \uc5c6\uc774 3\ubc88 \ubb38\uc81c\uc5d0 \ub300\ud574 1\uac1c\uc758 \ud074\ub798\uc2a4 \uc815\uc758 \ucf54\ub4dc\ub97c \uc81c\uc2dc\ud558\uba74 \ub41c\ub2e4.)\n",
      "class Counter:\n",
      "    count = 0\n",
      "    step = 1\n",
      "    def __init__(self, _count, _step=1): # default\uc77c \ub54c 1\ub85c \ubc1b\ub294\ub2e4.\n",
      "        self.count = _count\n",
      "        self.step = _step\n",
      "    \n",
      "    def __str__(self):\n",
      "        return '[Count (step: ' + str(self.step) + ')] ' + str(self.count)\n",
      "    \n",
      "    def incr(self):\n",
      "        self.count = self.count + self.step\n",
      "        return self.count\n",
      "    \n",
      "    def __call__(self):\n",
      "        self.count = self.count + self.step\n",
      "        return self.count\n",
      "    \n",
      "    def __add__(self, integ):\n",
      "        res_add = Counter(self.count + integ ,self.step)\n",
      "        return res_add\n",
      "    def __sub__(self, integ):\n",
      "        res_sub = Counter(self.count - integ ,self.step)\n",
      "        return res_sub\n",
      "    def __cmp__(self,integ):\n",
      "        comp = self.count\n",
      "        return comp - integ\n",
      "    \n",
      "c = Counter(10)\n",
      "print c\n",
      "d = Counter(10,2)\n",
      "print d\n",
      "\n",
      "c.incr()\n",
      "d.incr()\n",
      "print c\n",
      "print d\n",
      "\n",
      "c()\n",
      "d()\n",
      "print c\n",
      "print d\n",
      "\n",
      "print '----'\n",
      "c = c + 5\n",
      "d = d -5\n",
      "print c\n",
      "print d\n",
      "\n",
      "print c > 10\n",
      "print d > 10\n",
      "print c < 10\n",
      "print d < 10\n",
      "\n",
      "print d != 9"
     ],
     "language": "python",
     "metadata": {},
     "outputs": [
      {
       "output_type": "stream",
       "stream": "stdout",
       "text": [
        "[Count (step: 1)] 10\n",
        "[Count (step: 2)] 10\n",
        "[Count (step: 1)] 11\n",
        "[Count (step: 2)] 12\n",
        "[Count (step: 1)] 12\n",
        "[Count (step: 2)] 14\n",
        "----\n",
        "[Count (step: 1)] 17\n",
        "[Count (step: 2)] 9\n",
        "True\n",
        "False\n",
        "False\n",
        "True\n",
        "False\n"
       ]
      }
     ],
     "prompt_number": 8
    },
    {
     "cell_type": "markdown",
     "metadata": {},
     "source": [
      "counter\ud074\ub798\uc2a4\ub97c \ucf54\ub529\ud558\uc600\ub294\ub370, \uc5f0\uc0b0\uc790\uc911\ubcf5\uc744 \uc0ac\uc6a9\ud558\uc5ec \ud574\uacb0\ud560 \uc218 \uc788\uc5c8\ub2e4. \uae30\ub2a5\uc758 \uc774\ud574\ub9cc \ub41c\ub2e4\uba74 \ud06c\uac8c \uc5b4\ub835\uc9c0\ub294 \uc54a\uc9c0\ub9cc, \uc5b4\ub290 \uc21c\uac04\uc5d0 \ud568\uc218\uac00 \ud638\ucd9c\ub418\ub294\uc9c0 \ud587\uac08\ub9ac\ub294 \uacbd\uc6b0\ub4e4\uc774 \uc788\uc5b4\uc11c, \uc9c0\uc810\uc744 \ucc3e\uc544\uac00\uc11c \ub514\ubc84\uae45 \ud558\ub294 \uc2dc\uac04\uc774 \uc880 \uac78\ub838\ub2e4."
     ]
    },
    {
     "cell_type": "code",
     "collapsed": false,
     "input": [
      "# -*- coding: utf-8 -*-\n",
      "class MySet(list):\n",
      "    checker = 0\n",
      "    def __init__(self, l, _checker = 0):#\n",
      "        self.checker = _checker\n",
      "        for e in l:\n",
      "            self.append(e)\n",
      "        MySet.eliminate_duplicate(self)\n",
      "    \n",
      "    def __str__(self):#checker \uc640 \uadf8\uc5d0\uad00\ud55c \ub0b4\uc6a9\uc740 \uc784\uc758\uc791\uc131\n",
      "        result = \"MySet: {\"\n",
      "        if(self.checker == 0):\n",
      "            for e in self:\n",
      "                #print 'e',\n",
      "                #print e\n",
      "                #->e \ub465\ubcf5\ub41c \uac12\uc744 \uc81c\uc678\ud55c e\uc758 \uac12\uc774\ub2e4.\n",
      "            \n",
      "                result = result + str(e) + \" ,\"\n",
      "            #print result[0:len(result)]\n",
      "            #->MySet: {1 ,2 ,3 , \ub4a4\uc5d0 \uc27c\ud45c\ub97c \uc5c6\uc560\uc9c0 \uc54a\uc558\ub2e4. \uc870\uac74\ubb38\ubcf4\ub2e4\ub294 \ud30c\uc2f1\uc73c\ub85c \ud558\ub294\ubc29\ubc95\uc744 \ucde8\ud55c\ub4ef \ud558\ub2e4\n",
      "            result = result[0:len(result)-2] + \"}\"\n",
      "        elif(self.checker == 1):\n",
      "            for e in self:\n",
      "                #print 'e',\n",
      "                #print e\n",
      "                #->e \ub465\ubcf5\ub41c \uac12\uc744 \uc81c\uc678\ud55c e\uc758 \uac12\uc774\ub2e4.\n",
      "                if(e == self[-1]):\n",
      "                    result = result + str(e)\n",
      "                else:\n",
      "                    result = result + str(e) + \" ,\"\n",
      "            #print result[0:len(result)]\n",
      "            #->MySet: {1 ,2 ,3 , \ub4a4\uc5d0 \uc27c\ud45c\ub97c \uc5c6\uc560\uc9c0 \uc54a\uc558\ub2e4. \uc870\uac74\ubb38\ubcf4\ub2e4\ub294 \ud30c\uc2f1\uc73c\ub85c \ud558\ub294\ubc29\ubc95\uc744 \ucde8\ud55c\ub4ef \ud558\ub2e4\n",
      "            result = result + \"}\"\n",
      "        return result\n",
      "\n",
      "    @staticmethod    \n",
      "    def eliminate_duplicate(l):\n",
      "        s = []\n",
      "        for e in l:\n",
      "            #print 'before',\n",
      "            #print s\n",
      "            #\uac12\uc744 append \ud558\uae30 \uc804 \ub9ac\uc2a4\ud2b8\n",
      "            if e not in s:\n",
      "            #\uc0c8\ub85c \uc791\uc131\ud55c \ub9ac\uc2a4\ud2b8 s\uc5d0 \ub9ac\uc2a4\ud2b8 l\uc758 \uc694\uc18c  e\uac00 \uc5c6\uc73c\uba74 \uc989 s\uc5d0 \uc6b0\ub9ac\uac00  \uad6c\ud558\ub824\ub294  Myset\uc758 \uc694\uc18c\uac00 \uc5c6\uc73c\uba74\n",
      "                #print 'int',\n",
      "                #print e                \n",
      "                s.append(e)\n",
      "                #\uc694\uc18c e\ub97c \ub9ac\uc2a4\ud2b8 s\uc5d0 \ucd94\uac00\ud574\uc900\ub2e4\n",
      "            #else:\n",
      "                #print 'int',\n",
      "                #print e\n",
      "            #print 'after',\n",
      "            #print s\n",
      "            #\uc870\uac74\ubb38\uc744 \ud1b5\ud574 \uac78\ub7ec\uc9c4 \ud6c4 \uc791\uc131\ub41c \ub9ac\uc2a4\ud2b8 s \ucd9c\ub825\n",
      "        l[:] = []\n",
      "        #\uc778\uc1c4\uc2dc { \uc774 \uc9e4\ub824 \ub098\uc624\ub294\ub370, \n",
      "        #result = result[0:len(result)-2] + \"}\"\n",
      "        #\uc218\uc2dd\uc774 __str__\uc5d0 \uc874\uc7ac\ud558\uae30 \ub54c\ubb38\uc774\ub2e4\n",
      "        #\uadf8\ub798\uc11c \uc870\uac74\ubb38\uc73c\ub85c \ucc98\ub9ac\ud574\uc8fc\ub294\uac83\uc774 null\uc77c\uacbd\uc6b0\uc5d0 \uc880 \ub354 \uc88b\uc744\uac83 \uac19\ub2e4\n",
      "        for e in s:\n",
      "            \n",
      "            l.append(e)\n",
      "            \n",
      "\n",
      "print __name__#\ud568\uc218\uc774\ub984\uc744 \ucd9c\ub825\ud574\uc900\ub2e4(\uc5ec\uae30\ub294  main\uc774 \ub098\uc628\ub2e4)\n",
      "if __name__ == \"__main__\":\n",
      "    s = MySet([1, 2, 2, 3])\n",
      "    t = MySet([2, 3, 4, 5, 6, 7, 8, 8, 8, 8, 8, 9])\n",
      "    print t\n",
      "    \n",
      "    q = MySet([])\n",
      "    print q\n",
      "    \n",
      "    w = MySet([],1)#\uc870\uac74\ubb38\uc73c\ub85c \ub9c8\uc9c0\ub9c9 \ubd80\ubd84\uc744 \ub2e4\ub4ec\uc740 \uacbd\uc6b0(\uc880\ub354 \ubcf4\uae30 \ud3b8\ud568)\n",
      "    print w"
     ],
     "language": "python",
     "metadata": {},
     "outputs": [
      {
       "output_type": "stream",
       "stream": "stdout",
       "text": [
        "__main__\n",
        "MySet: {2 ,3 ,4 ,5 ,6 ,7 ,8 ,9}\n",
        "MySet:}\n",
        "MySet: {}\n"
       ]
      }
     ],
     "prompt_number": 9
    },
    {
     "cell_type": "markdown",
     "metadata": {},
     "source": [
      "\uc911\ubcf5\uac12 \uc81c\uac70\uc640 sorting\uc744 \uc81c\uacf5\ud558\ub294 \ud074\ub798\uc2a4\ub97c \uad6c\ud604\ud558\uc600\ub294\ub370, \uc57d\uac04 \ub9c8\uc74c\uc5d0 \uc548\ub4e4\uc5c8\ub358 result = result[0:len(result)-2] + \"}\" \ubd80\ubd84\uc5d0 \uc870\uac74\uc744 \ucd94\uac00\ud574\uc11c \uac12\uc774 \uc5c6\uc744 \uacbd\uc6b0\ub97c \ucd94\uac00\ud574\uc92c\ub2e4. sort\uc640 \uc911\ubcf5\uc740 \uacb0\uacfc\uac19\uc774 \uc644\ud65c\ud558\uac8c \ucc98\ub9ac\ub418\uc5c8\ub2e4."
     ]
    },
    {
     "cell_type": "markdown",
     "metadata": {},
     "source": [
      "7,8\ubc88\uc740 \uc815\ub9d0 \ubaa8\ub974\uaca0\uc2b5\ub2c8\ub2e4... \uacfc\uc81c\uc810\uc218\uac00 \uc2ec\ud788 \uac71\uc815\ub418\ub294 \uc774\ubc88 \uacfc\uc81c\uc600\uc2b5\ub2c8\ub2e4. \ub2e4\ub978\uac83\ub4e4\uc740 \uc5f4\uc2ec\ud788 \ud55c\ub2e4\uace0 \uad6c\ud604\ud588\ub294\ub370, \uc5b4\ub824\uc6b4 7,8\ubc88 \uc800\ubc88\ubd80\ud130 \uad6c\ud604 \uc548\ud588\ub358\uac83\uc73c\ub85c \uae30\uc5b5\ud558\ub294\ub370, \uce5c\uad6c\uc5d0\uac8c \uc800\ubc88 \uc18c\uc2a4\ub97c\uad6c\ud574\uc11c \ud480\uc5b4\ub3c4 \ud480\ub9ac\uc9c0\uac00 \uc54a\uc2b5\ub2c8\ub2e4. \uadf8\uc678 \ub098\uba38\uc9c0 \uacfc\uc81c\ub294 \ub2e8\uc6d0\uacf5\ubd80 \ucc9c\ucc9c\ud788 \ud558\uba74\uc11c \uc9c4\ud589\ud558\ub2c8 \uc5b4\ub835\uc9c0 \uc54a\uac8c \ud480\ub838\uc2b5\ub2c8\ub2e4. \uc774\ubc88 \ud30c\uc774\uc36c \uac15\uc758 \ub4e4\uc73c\uba74\uc11c \ud30c\uc774\uc36c\uc774\ub77c\ub294 \uc5b8\uc5b4\uac00 \uae30\ub2a5\uad6c\ud604\uc740 \uac04\ub2e8\ud558\uc9c0\ub9cc, \uadf8 \uae30\ub2a5\uc744 \uc774\uc6a9\ud558\ub294\uac83\uc774 \uc5b4\ub835\ub2e4\ub294\uac83\uc744 \ub290\uaf08\uc2b5\ub2c8\ub2e4. \ub9e4\uc6b0 \ub2e4\uc591\ud55c \uae30\ub2a5\uc774 \uc774\ubbf8\uad6c\ud604\ub418\uc5b4 \uc788\ub2e4\ubcf4\ub2c8 \uadf8 \uae30\ub2a5\ub4e4\uc744 \uc775\ud788\ub294 \uc810\uc774 \uc5b4\ub835\ub2e4\uace0 \uc0dd\uac01\ud588\uc2b5\ub2c8\ub2e4. \ud558\uc9c0\ub9cc sort()\ud568\uc218\ub098, \ubc18\ubcf5\ubb38, split() \uac19\uc740 \uae30\ub2a5\uc740 \uae30\uc5b5\uc5d0 \ub0a8\uc744\ub9cc\ud55c \ud568\uc218\uc600\uc2b5\ub2c8\ub2e4. c\uc5d0\ub294 \uc5c6\ub294 \uae30\ub2a5\uc774\ub77c\uc11c \uc2e0\uc138\uacc4\ub77c\uace0 \ud45c\ud604\ud558\ub294 \uac83\uc774 \ub9de\uc744\ub4ef \ud569\ub2c8\ub2e4.\n",
      " \ud55c\ud559\uae30\ub3d9\uc548 \ubd80\uc871\ud55c \ud559\uc0dd\uac00\ub974\uce58\ub290\ub77c \uc560\uc4f0\uc2e0 \uad50\uc218\ub2d8\uc774\ub791 \uc870\uad50\ub2d8\uaed8 \uc18c\uc18c\ud558\uac8c \uac10\uc0ac\uc758 \ub9d0\uc500 \uc804\ud558\uba74\uc11c \uac15\uc758 \ud6c4\uae30 \ub9c8\uce58\uaca0\uc2b5\ub2c8\ub2e4."
     ]
    }
   ],
   "metadata": {}
  }
 ]
}