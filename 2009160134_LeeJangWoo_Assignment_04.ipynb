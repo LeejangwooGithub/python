{
 "metadata": {
  "name": "ljw_assignment_04.ipynb",
  "signature": "sha256:11ada860967dfdb9d77c84cd752bc5a56360be6f25a0a3657bb3fcba14e8101d"
 },
 "nbformat": 3,
 "nbformat_minor": 0,
 "worksheets": [
  {
   "cells": [
    {
     "cell_type": "code",
     "collapsed": false,
     "input": [
      "f = open('D:\\\\ipython\\\\s.txt')\n",
      "print \"--s.txt--\"\n",
      "f1 = f.read()#\n",
      "f2 = f1.split('\\n')\n",
      "print f1\n",
      "print f2\n",
      "f2.sort()#f3 = f2.sort()\ub294 \uc624\ub958\uac00 \ub09c\ub2e4. \uc65c \uadf8\ub7f4\uae4c?\n",
      "\n",
      "print \"\\n--s1.txt--\"\n",
      "print f2\n",
      "fw = open('D:\\\\ipython\\\\s1.txt','w')#\uc4f0\uae30\ud615\ud0dc\ub85c \uc9c0\uc815\ud574\uc900\ub2e4.\n",
      "fw1 = '\\n'.join(f2)\n",
      "print fw1\n",
      "fw.write(fw1)\n",
      "fw.close() \n",
      "f.close()"
     ],
     "language": "python",
     "metadata": {},
     "outputs": [
      {
       "output_type": "stream",
       "stream": "stdout",
       "text": [
        "--s.txt--\n",
        "pig ham\n",
        "cat dog\n",
        "ham bird\n",
        "dog pig\n",
        "['pig ham', 'cat dog', 'ham bird', 'dog pig']\n",
        "\n",
        "--s1.txt--\n",
        "['cat dog', 'dog pig', 'ham bird', 'pig ham']\n",
        "cat dog\n",
        "dog pig\n",
        "ham bird\n",
        "pig ham\n"
       ]
      }
     ],
     "prompt_number": 2
    },
    {
     "cell_type": "markdown",
     "metadata": {},
     "source": [
      "1.1\n",
      "f : \uc808\ub300\uacbd\ub85c\uc758 \ud30c\uc77c\uc744 \uc77d\ub294\ub2e4(\uc8fc\uc758\ud560 \uc810\uc740 \\\uc758 \uac2f\uc218)\n",
      "f1 : f\ub97c \uc77d\ub294\ub2e4\n",
      "f2 : f1\uc744 \uac1c\ud589\ubb38\uc790\ub85c \ub04a\uc5b4 \uc77d\ub294\ub2e4\n",
      "f2.sort() : f2\ub97c \uc815\ub82c\ud55c\ub2e4(f3 = f2.sort()\ub294 \uc548\ub428)\n",
      "\n",
      "fw : \uc4f0\uae30\ud615\ud0dc\ub85c s1\ud30c\uc77c\uc744 \uc5f0\ub2e4\n",
      "fw1 : \uac1c\ud589\ubb38\uc790\ub97c \uae30\uc900\uc0bc\uc544 f2\uc758 \ubb38\uc790\uc5f4\ub4e4\uc744 join\uc2dc\ud0a8\ub2e4.\n",
      "fw.write() : s1\uc5d0 fw1\ub0b4\uc6a9\uc744 \uc4f4\ub2e4\n",
      "fw,f\ub97c \ub2eb\ub294\ub2e4\n",
      " \n",
      "\uae30\ubcf8\uc801\uc778 sort, read, write \uc0ac\uc6a9"
     ]
    },
    {
     "cell_type": "code",
     "collapsed": false,
     "input": [
      "# -*- coding: utf-8 -*-\n",
      "def Mycmp(st1, st2):\n",
      "    return cmp(st1[4::],st2[4::])\n",
      " \n",
      "f = open('D:\\\\ipython\\\\s.txt')\n",
      "print \"--s.txt--\"\n",
      "f1 = f.read()#\n",
      "f2 = f1.split('\\n')\n",
      "print f1\n",
      "print f2\n",
      "f2.sort(Mycmp)#f3 = f2.sort()\ub294 \uc624\ub958\uac00 \ub09c\ub2e4. \uc65c \uadf8\ub7f4\uae4c?\n",
      "\n",
      "print \"\\n--s2.txt--\"\n",
      "print f2\n",
      "fw = open('D:\\\\ipython\\\\s2.txt','w')#\uc4f0\uae30\ud615\ud0dc\ub85c \uc9c0\uc815\ud574\uc900\ub2e4.\n",
      "fw1 = '\\n'.join(f2)\n",
      "print fw1\n",
      "fw.write(fw1)\n",
      "fw.close() \n",
      "f.close()"
     ],
     "language": "python",
     "metadata": {},
     "outputs": [
      {
       "output_type": "stream",
       "stream": "stdout",
       "text": [
        "--s.txt--\n",
        "pig ham\n",
        "cat dog\n",
        "ham bird\n",
        "dog pig\n",
        "['pig ham', 'cat dog', 'ham bird', 'dog pig']\n",
        "\n",
        "--s2.txt--\n",
        "['ham bird', 'cat dog', 'pig ham', 'dog pig']\n",
        "ham bird\n",
        "cat dog\n",
        "pig ham\n",
        "dog pig\n"
       ]
      }
     ],
     "prompt_number": 3
    },
    {
     "cell_type": "markdown",
     "metadata": {},
     "source": [
      "1.2\n",
      "def Mycmp : st1\uacfc st2\ub97c 4\ubc88\uc9f8 \ubb38\uc790\uc5f4\ubd80\ud130 sort\ud558\uae30\uc704\ud55c \uc815\uc758\ud568\uc218. \n",
      " \n",
      "f : \uc808\ub300\uacbd\ub85c\uc758 \ud30c\uc77c\uc744 \uc77d\ub294\ub2e4(\uc8fc\uc758\ud560 \uc810\uc740 \\\uc758 \uac2f\uc218)\n",
      "f1 : f\ub97c \uc77d\ub294\ub2e4\n",
      "f2 : f1\uc744 \uac1c\ud589\ubb38\uc790\ub85c \ub04a\uc5b4 \uc77d\ub294\ub2e4\n",
      "f2.sort(Mycmp) : f2 'Mycmp'\uc5d0\uc11c \uc815\uc758\ud55c \uae30\uc900\uc73c\ub85c \uc815\ub82c\ud55c\ub2e4(f3 = f2.sort()\ub294 \uc548\ub428)\n",
      " \n",
      "fw : \uc4f0\uae30\ud615\ud0dc\ub85c s2\ud30c\uc77c\uc744 \uc5f0\ub2e4\n",
      "fw1 : \uac1c\ud589\ubb38\uc790\ub97c \uae30\uc900\uc0bc\uc544 f2\uc758 \ubb38\uc790\uc5f4\ub4e4\uc744 join\uc2dc\ud0a8\ub2e4.\n",
      "fw.write() : s1\uc5d0 fw1\ub0b4\uc6a9\uc744 \uc4f4\ub2e4\n",
      "fw,f\ub97c \ub2eb\ub294\ub2e4"
     ]
    },
    {
     "cell_type": "code",
     "collapsed": false,
     "input": [
      "f = open('D:\\\\ipython\\\\s.txt')\n",
      "print \"--s.txt--\"\n",
      "f1 = f.read()#\n",
      "f2 = f1.split()\n",
      "print f1\n",
      "print f2\n",
      "for i in range(len(f2)):\n",
      "    if(i%3 == 2):\n",
      "        f2[i] = f2[i] + '\\n'\n",
      "    else:\n",
      "        f2[i] = f2[i] + ' '\n",
      "\n",
      "print \"\\n--s3.txt--\"\n",
      "print f2\n",
      "fw = open('D:\\\\ipython\\\\s3.txt','w')#\uc4f0\uae30\ud615\ud0dc\ub85c \uc9c0\uc815\ud574\uc900\ub2e4.\n",
      "\n",
      "fw1 = ''.join(f2)\n",
      "print fw1\n",
      "fw.write(fw1)\n",
      "fw.close()\n",
      "f.close()"
     ],
     "language": "python",
     "metadata": {},
     "outputs": [
      {
       "output_type": "stream",
       "stream": "stdout",
       "text": [
        "--s.txt--\n",
        "pig ham\n",
        "cat dog\n",
        "ham bird\n",
        "dog pig\n",
        "['pig', 'ham', 'cat', 'dog', 'ham', 'bird', 'dog', 'pig']\n",
        "\n",
        "--s3.txt--\n",
        "['pig ', 'ham ', 'cat\\n', 'dog ', 'ham ', 'bird\\n', 'dog ', 'pig ']\n",
        "pig ham cat\n",
        "dog ham bird\n",
        "dog pig \n"
       ]
      }
     ],
     "prompt_number": 4
    },
    {
     "cell_type": "markdown",
     "metadata": {},
     "source": [
      "f : \uc808\ub300\uacbd\ub85c\uc758 \ud30c\uc77c\uc744 \uc77d\ub294\ub2e4(\uc8fc\uc758\ud560 \uc810\uc740 \\\uc758 \uac2f\uc218)\n",
      "f1 : f\ub97c \uc77d\ub294\ub2e4\n",
      "f2 : f1\uc744 \uac1c\ud589\ubb38\uc790\ub85c \ub04a\uc5b4 \uc77d\ub294\ub2e4\n",
      "f2.sort(Mycmp) : f2 'Mycmp'\uc5d0\uc11c \uc815\uc758\ud55c \uae30\uc900\uc73c\ub85c \uc815\ub82c\ud55c\ub2e4(f3 = f2.sort()\ub294 \uc548\ub428)\n",
      "for i in range(len(f2)) : f2\uc758 \ubc30\uc5f4 \uae38\uc774\ub97c \ucd94\ucd9c\ud558\uc5ec i\uc758 \uac12\uc73c\ub85c \ubc18\ubcf5\ud55c\ub2e4\n",
      "if(i%3 == 2): \ubc30\uc5f4\uc758 \ubc88\ud638\uac00 3\uc758 \ubc30\uc218-1\uc778 \uacbd\uc6b0 \ubb38\uc790\uc5d0 \uac1c\ud589\ubb38\uc790 '\\n'\uc744 \uc0bd\uc785\ud55c\ub2e4\n",
      "\ub098\uba38\uc9c0\uc758 \uacbd\uc6b0 \ube48\uacf5\uac04 ' '\uc744 \uc800\uc7a5\ud55c\ub2e4\n",
      "\n",
      "fw : \uc4f0\uae30\ud615\ud0dc\ub85c s3\ud30c\uc77c\uc744 \uc5f0\ub2e4\n",
      "fw1 : \uac1c\ud589\ubb38\uc790\ub97c \uae30\uc900\uc0bc\uc544 f2\uc758 \ubb38\uc790\uc5f4\ub4e4\uc744 join\uc2dc\ud0a8\ub2e4.\n",
      "fw.write() : s1\uc5d0 fw1\ub0b4\uc6a9\uc744 \uc4f4\ub2e4\n",
      "fw,f\ub97c \ub2eb\ub294\ub2e4"
     ]
    },
    {
     "cell_type": "code",
     "collapsed": false,
     "input": [
      "# -*- coding: utf-8 -*-\n",
      "import sha\n",
      "from pyparsing import GoToColumn\n",
      "\n",
      "def intro():\n",
      "    print \"Welcome to Our Service\"\n",
      "    print \"1. Sign Up\"\n",
      "    print \"2. Sign In\"\n",
      "    print \"3. Quit\"\n",
      "    \n",
      "def check_ID(ID,PW):\n",
      "    ret_num = 0\n",
      "    id_point_i = 0\n",
      "    id_point_j = 0\n",
      "    NAME = \"\"\n",
      "    f = open('D:\\\\ipython\\\\access.txt', 'r')\n",
      "    f1 = f.read()\n",
      "    f2 = f1.split('\\n')\n",
      "    for i in range(len(f2)):\n",
      "        for j in range(len(f2[i])):\n",
      "            if(f2[i][j] == \":\"):\n",
      "                if(f2[i][0:j] == ID):\n",
      "                    if(PW != 0):\n",
      "                        NAME = f2[i][0:j]\n",
      "                        id_point_i = i\n",
      "                        id_point_j = j\n",
      "                    ret_num = 1\n",
      "                    break\n",
      "    if(PW != 0):#\ube44\ubc00\ubc88\ub85c\uae4c\uc9c0 \uc785\ub825\ud55c \uacbd\uc6b0\n",
      "        ret_num = 0\n",
      "        _SHA_PW = sha.new(PW).hexdigest()\n",
      "        if(_SHA_PW == f2[id_point_i][id_point_j+2:id_point_j+42]):\n",
      "            print \"Hello [\" + NAME +\"]\"\n",
      "            ret_num = 1\n",
      "    \n",
      "    f.close()\n",
      "    return ret_num\n",
      "\n",
      "\n",
      "def Save(_ID, _PW_SHA, _NAME, _SCHOOL):\n",
      "    fr = open('D:\\\\ipython\\\\access.txt', 'r')\n",
      "    fr1 = fr.read().count(':')#':'\uc744 \uc138\uc5b4\uc11c \uc904\uc744 count\ud588\ub2e4.\n",
      "    if(fr1 == 0):#2-2), 2-3) \uc2e4\ud589\n",
      "        _DATA = _ID + ': ' + _PW_SHA + ', ' + _NAME + ', ' + _SCHOOL\n",
      "    else:\n",
      "        _DATA = '\\n' + _ID + ': ' + _PW_SHA + ', ' + _NAME + ', ' + _SCHOOL\n",
      "    fr.close()\n",
      "    fa = open('D:\\\\ipython\\\\access.txt', 'a')\n",
      "    fa1 = fa.write(_DATA)#2-1) \uc2e4\ud589\n",
      "    fa.close()\n",
      "\n",
      "def Sign_up():#1\ubc88 \uc635\uc158\n",
      "    _ID     = raw_input(\"    ID >> \")#ID\uc785\ub825\ud558\uace0\n",
      "    while(check_ID(_ID,0)):#ID\uc911\ubcf5 \uac80\uc0ac\n",
      "        print \"Sorry, the entered ID is already used.\"#2-5)\uc2e4\ud589\n",
      "        _ID     = raw_input(\"    ID >> \")\n",
      "    _PW     = raw_input(\"    PW >> \")\n",
      "    _NAME   = raw_input(\"  NAME >> \")\n",
      "    _SCHOOL = raw_input(\"SCHOOL >> \")\n",
      "    _PW_SHA = sha.new(_PW).hexdigest()#2-4) \uc2e4\ud589\n",
      "    Save(_ID, _PW_SHA, _NAME, _SCHOOL)#\uc800\uc7a5\ud568\uc218\n",
      "\n",
      "def Sign_in():\n",
      "    _ID     = raw_input(\"    ID >> \")\n",
      "    while(check_ID(_ID,0) == 0):#3-1)\uc2e4\ud589\n",
      "        print \"Sorry, you are not a registered member\"\n",
      "        _ID     = raw_input(\"    ID >> \")\n",
      "    _PW     = raw_input(\"    PW >> \")\n",
      "    if(check_ID(_ID,_PW) == 0):#3-2)\uc2e4\ud589\n",
      "        print \"Sorry, the entered password is not correct\"\n",
      "\n",
      "while(1):\n",
      "    intro()#intro \ud654\uba74\ucd9c\ub825\n",
      "    intro_num = raw_input(' >> ')#\uc635\uc158 \uc785\ub825\n",
      "    \n",
      "    if(intro_num == \"1\"):#1\uc778\uacbd\uc6b0\n",
      "        Sign_up()#Signup \uc2e4\ud589\n",
      "    elif(intro_num == \"2\"):\n",
      "        Sign_in()\n",
      "    elif(intro_num == \"3\"):\n",
      "        print \"\uc885\ub8cc\ud569\ub2c8\ub2e4\"\n",
      "        exit(1)\n",
      "    else:\n",
      "        print \"\uc798\ubabb\ub41c \uc785\ub825\uc785\ub2c8\ub2e4. \ub2e4\uc2dc \uc785\ub825\ud558\uc138\uc694.\""
     ],
     "language": "python",
     "metadata": {},
     "outputs": [
      {
       "output_type": "stream",
       "stream": "stdout",
       "text": [
        "Welcome to Our Service\n",
        "1. Sign Up\n",
        "2. Sign In\n",
        "3. Quit\n"
       ]
      },
      {
       "name": "stdout",
       "output_type": "stream",
       "stream": "stdout",
       "text": [
        " >> 1\n"
       ]
      },
      {
       "name": "stdout",
       "output_type": "stream",
       "stream": "stdout",
       "text": [
        "    ID >> qwerty123\n"
       ]
      },
      {
       "name": "stdout",
       "output_type": "stream",
       "stream": "stdout",
       "text": [
        "    PW >> 123\n"
       ]
      },
      {
       "name": "stdout",
       "output_type": "stream",
       "stream": "stdout",
       "text": [
        "  NAME >> qwerty\n"
       ]
      },
      {
       "name": "stdout",
       "output_type": "stream",
       "stream": "stdout",
       "text": [
        "SCHOOL >> koreatech\n"
       ]
      },
      {
       "output_type": "stream",
       "stream": "stdout",
       "text": [
        "Welcome to Our Service\n",
        "1. Sign Up\n",
        "2. Sign In\n",
        "3. Quit\n"
       ]
      },
      {
       "name": "stdout",
       "output_type": "stream",
       "stream": "stdout",
       "text": [
        " >> 2\n"
       ]
      },
      {
       "name": "stdout",
       "output_type": "stream",
       "stream": "stdout",
       "text": [
        "    ID >> qwerty123\n"
       ]
      },
      {
       "name": "stdout",
       "output_type": "stream",
       "stream": "stdout",
       "text": [
        "    PW >> 123\n"
       ]
      },
      {
       "output_type": "stream",
       "stream": "stdout",
       "text": [
        "Hello [qwerty123]\n",
        "Welcome to Our Service\n",
        "1. Sign Up\n",
        "2. Sign In\n",
        "3. Quit\n"
       ]
      },
      {
       "name": "stdout",
       "output_type": "stream",
       "stream": "stdout",
       "text": [
        " >> 3\n"
       ]
      },
      {
       "output_type": "stream",
       "stream": "stdout",
       "text": [
        "\uc885\ub8cc\ud569\ub2c8\ub2e4\n",
        "Welcome to Our Service\n",
        "1. Sign Up\n",
        "2. Sign In\n",
        "3. Quit\n"
       ]
      }
     ]
    },
    {
     "cell_type": "markdown",
     "metadata": {},
     "source": [
      "1\ubc88 \uc635\uc158\uc120\ud0dd\n",
      "  - ID\uc785\ub825(\uc911\ubcf5\uc778 \uacbd\uc6b0 \uc544\ub2d0\ub54c \uae4c\uc9c0 \uc785\ub825)\n",
      "  - check_ID(_ID,0)\ud568\uc218 \uc989 ID\uac80\uc0ac\ud568\uc218\ub97c \uc801\uc6a9\ud55c\ub2e4.(PW\uac12\uc774 0\uc774\uba74, ID\ub9cc \uac80\uc0ac\ud55c\ub2e4)\n",
      "      - read \ud615\uc2dd\uc73c\ub85c access\ub97c open\ud55c\ub2e4(f)\n",
      "      - split('\\n') \uac1c\ud589\ubb38\uc790\ub85c split\ud55c\ub2e4\n",
      "      - \ubb38\uc790\uc5f4\uc758 \uc704\uce58\uc911 ':'\ub97c \ucc3e\uc544\ub0b8\ub2e4(\uc704\uce58 = j)\n",
      "      - \ubb38\uc790\uc5f4[split\ub2e8\uc5b4][j]\ub294 ':'\uc758 \uc704\uce58\uc774\ub2e4. \uc989 \ubb38\uc790\uc5f4[splite\ub2e8\uc5b4][0:j]\ub294 ID\uc784\uc744 \uc54c \uc218 \uc788\ub2e4\n",
      "  - PW, NAME, SCHOOL\uc785\ub825\n",
      "  - Save(_ID, _PW_SHA, _NAME, _SCHOOL)\ud568\uc218 \uc989 \uc800\uc7a5\uae30\ub2a5\uc774 \uc788\ub294 \ud568\uc218\ub85c \uc774\ub3d9\n",
      "      - read \ud615\uc2dd\uc73c\ub85c access\ub97c open\ud55c\ub2e4(fr)\n",
      "      - ':'\uc758 \uac2f\uc218\ub97c \uc138\uc5b4\uc11c \uba87\uc904\uc778\uc9c0 \uc54c\uc544\ub0b8\ub2e4\n",
      "      - \ucd94\ucd9c\ud55c \uc904\uc758 \uac2f\uc218\ub85c \uc785\ub825\ud55c\ub2e4.(\uc870\uac74\uc911\uc5d0 \uc815\ubcf4\uac00 10\uac1c\uba74 \uc904\uc774 10\uac1c\ub77c\ub294 \uc870\uac74\uc744 \ub9cc\uc871\ud558\uae30\uc704\ud574 \ub9c8\uc9c0\ub9c9\uae00\uc790 + '\\n'\uc774 \ub098\uc624\uc9c0 \uc54a\ub3c4\ub85d if\ubb38\uc744 \ud1b5\ud574 \uc815\ub82c\ud558\uc600\ub2e4)\n",
      "      - fr\uc744 close()\ud55c\ub2e4\n",
      "      - append \ud615\uc2dd\uc73c\ub85c access\ub97c open\ud55c\ub2e4(fa)\n",
      "      - \uc815\ub82c\ud55c \ubb38\uc7a5\uc744 \ucd94\uac00\ud55c\ub2e4\n",
      "      - fa\ub97c close() \ud55c\ub2e4\n",
      "      \n",
      "2\ubc88 \uc635\uc158\uc120\ud0dd\n",
      "  - ID\uc785\ub825(ID\uac00 \ub9de\uc744\ub54c \uae4c\uc9c0 \uc785\ub825\ud55c\ub2e4)\n",
      "  - check_ID(_ID,_PW)\uc5d0 _PW\uac12\uc774 0\uc774\uba74 ID\ub9cc \uac80\uc0ac\ud558\uc9c0\ub9cc, _PW\uac12\uc774 \uc788\uc73c\uba74, _PW\ub610\ud55c \uac80\uc0ac\ud55c\ub2e4\n",
      "      - (\ub2e8\uc5b4 \uac80\uc0ac\ub294 \uc704\uc5d0 \uc790\uc138\ud788 \uae30\uc220\ud558\uc600\ub2e4)\n",
      "      - \ubc1b\uc544\uc628 PW\ub97c sha\ub85c \uc554\ud638\ud654\ub97c \ud558\uc5ec \uc774\ubbf8 \uc800\uc7a5\ub418\uc5b4 \uc788\ub294 \ube44\ubc00\ubc88\ud638\uc640 \ube44\uad50\ud55c\ub2e4.\n",
      "      - \ub9de\uace0 \ud2c0\ub9bc\uc5d0 \ub530\ub77c \uba54\uc138\uc9c0\ub97c \ucd9c\ub825\ud55c\ub2e4\n",
      "3\ubc88 \uc635\uc158\uc120\ud0dd\n",
      "  - \uc885\ub8cc"
     ]
    },
    {
     "cell_type": "code",
     "collapsed": false,
     "input": [
      "# -*- coding: utf-8 -*-\n",
      "from decimal import *\n",
      "\n",
      "def frange(*argc):\n",
      "    \n",
      "    if(len(argc) == 1):\n",
      "        i = 0\n",
      "        a = argc[0]\n",
      "        arr = [0]\n",
      "        cnt = Decimal(\"0.1\")\n",
      "        while(1):\n",
      "            i = i + cnt\n",
      "            if(i == a):\n",
      "                break\n",
      "            arr.append(i)\n",
      "        return arr\n",
      "    if(len(argc) == 2):\n",
      "        i = Decimal(argc[0])\n",
      "        a = argc[1]\n",
      "        arr = [argc[0]]\n",
      "        cnt = Decimal(\"0.1\")\n",
      "        while(1):\n",
      "            i = i + cnt\n",
      "            if(i == a):\n",
      "                break\n",
      "            arr.append(i)\n",
      "        return arr\n",
      "    if(len(argc) == 3):\n",
      "        i = argc[0]\n",
      "        a = argc[1]\n",
      "        arr = [argc[0]]\n",
      "        cnt = argc[2]\n",
      "        while(1):\n",
      "            i = i+cnt\n",
      "            if(i >= a):\n",
      "                break\n",
      "            arr.append(i)\n",
      "        return arr\n",
      "        \n",
      "print frange(0.5)\n",
      "print frange(1.0,2.0)\n",
      "print frange(2.2, 4.0, 0.5)"
     ],
     "language": "python",
     "metadata": {},
     "outputs": []
    },
    {
     "cell_type": "markdown",
     "metadata": {},
     "source": [
      "(\ucef4\ud4e8\ud130\ub97c \ubc14\uafd4 \uc2e4\ud589\ud558\ub2c8 Notebook\uc5d0\uc11c \ucef4\ud30c\uc77c\uc774 \ub418\uc9c0 \uc54a\uc2b5\ub2c8\ub2e4. \uc2e4\ud589\ud55c text\ub97c \ubcf5\uc0ac \ubd99\uc5ec\ub123\uae30 \ud558\uc600\uc2b5\ub2c8\ub2e4)\n",
      "\n",
      "[0, Decimal('0.1'), Decimal('0.2'), Decimal('0.3'), Decimal('0.4')]\n",
      "\n",
      "[1.0, Decimal('1.1'), Decimal('1.2'), Decimal('1.3'), Decimal('1.4'), Decimal('1.5'), Decimal('1.6'), Decimal('1.7'), Decimal('1.8'), Decimal('1.9')]\n",
      "\n",
      "[2.2, 2.7, 3.2, 3.7]\n",
      "(\uc704 \ucf54\ub4dc\uac00 canopy\uc5d0\uc11c \uc774\ub807\uac8c \uc2e4\ud589\uc774 \ub429\ub2c8\ub2e4)"
     ]
    },
    {
     "cell_type": "markdown",
     "metadata": {},
     "source": [
      "\uc704 \ucf54\ub4dc\uc758 \uc9c4\ud589\uc5d0 \uc788\uc5b4\uc11c \ubb38\uc81c\uac00 \ub418\ub294 \uc810\uc740 \uc5f0\uc0b0\uc774 \uc544\ub2cc Deciaml \uc778\ub370, \uc18c\uc218\ub97c \ubc1b\ub294\uac83 \uae4c\uc9c0\ub290 \uc774\ud574\uac00 \ub418\uc9c0\ub9cc, \ucd9c\ub825\ud560 \ub54c Decimal\uc744 \uc5c6\uc560\uc8fc\ub294 \ubc29\ubc95\uc744 \uc798 \ubaa8\ub974\uaca0\ub2e4. \uc5f0\uc0b0\uac12\uc740 \uacfc\uc81c\uc640 \ub3d9\uc77c\ud558\uc5ec \uc77c\ub2e8 \uc62c\ub838\uc73c\ub098, Deciaml \uae00\uc790\uac00 \ub9ce\uc774 \uac70\uc2ac\ub9b0\ub2e4.\n",
      "argc\uc758 \uae38\uc774\ub97c \uc54c\uc544\ub0b4\uc5b4 \uba85\ub839\uc5b4\uc758 \uc885\ub958\ub97c 3\uac1c\ub85c \ub098\ub204\uc5b4 \uc2e4\ud589\ud574\uc8fc\ub294 \ucf54\ub4dc\ub85c \ub2e8\uc21c \ubc18\ubcf5\uacfc \ub367\uc148\ub9cc \uc874\uc790\ud558\ub294 \ucf54\ub4dc\ub2e4."
     ]
    },
    {
     "cell_type": "code",
     "collapsed": false,
     "input": [
      "# -*- coding: utf-8 -*-\n",
      "def sum(*argc):\n",
      "    all_sum = 0\n",
      "    for i in argc:\n",
      "        all_sum = all_sum + i\n",
      "    return all_sum\n",
      "print sum()\n",
      "print sum(1,2)\n",
      "print sum(1,2,3,4,5)\n",
      "print sum(1,5,7,2,-10)"
     ],
     "language": "python",
     "metadata": {},
     "outputs": []
    },
    {
     "cell_type": "markdown",
     "metadata": {},
     "source": [
      "(\ucef4\ud4e8\ud130\ub97c \ubc14\uafd4 \uc2e4\ud589\ud558\ub2c8 Notebook\uc5d0\uc11c \ucef4\ud30c\uc77c\uc774 \ub418\uc9c0 \uc54a\uc2b5\ub2c8\ub2e4. \uc2e4\ud589\ud55c text\ub97c \ubcf5\uc0ac \ubd99\uc5ec\ub123\uae30 \ud558\uc600\uc2b5\ub2c8\ub2e4.)\n",
      "0\n",
      "3\n",
      "15\n",
      "5"
     ]
    },
    {
     "cell_type": "markdown",
     "metadata": {},
     "source": [
      "argc\uc758 \uc694\uc18c\ub4e4\uc744 \ubc18\ubcf5\ubb38\uc73c\ub85c \ub3cc\ub824\uc11c \uadf8 \uac12\ub4e4\uc744 \uc11c\ub85c \ud569\ud574\uc900\ub2e4. sum\uc744 \uc644\ub8cc\ud55c \uac12\uc744 return\ud574 \uc8fc\ub294\uac83\uc740 \uc5b4\ub824\uc6b4 \uc77c\uc774 \uc544\ub2c8\ub2e4."
     ]
    },
    {
     "cell_type": "code",
     "collapsed": false,
     "input": [
      "# -*- coding: utf-8 -*-\n",
      "def myinitial(argv):\n",
      "    s = \"\"\n",
      "    for i in argv.split():\n",
      "        s = s + i[0]\n",
      "    return s.upper()\n",
      "\n",
      "print myinitial(\"as soon as possible\")"
     ],
     "language": "python",
     "metadata": {},
     "outputs": []
    },
    {
     "cell_type": "markdown",
     "metadata": {},
     "source": [
      "(\ucef4\ud4e8\ud130\ub97c \ubc14\uafd4 \uc2e4\ud589\ud558\ub2c8 Notebook\uc5d0\uc11c \ucef4\ud30c\uc77c\uc774 \ub418\uc9c0 \uc54a\uc2b5\ub2c8\ub2e4. \uc2e4\ud589\ud55c text\ub97c \ubcf5\uc0ac \ubd99\uc5ec\ub123\uae30 \ud558\uc600\uc2b5\ub2c8\ub2e4.)\n",
      "ASAP"
     ]
    },
    {
     "cell_type": "markdown",
     "metadata": {},
     "source": [
      "\ubb38\uc7a5\uc744 \ubc1b\uc544\uc640\uc11c \uadf8 \ubb38\uc7a5\uc744 \ube48\uce78\uc73c\ub85c split()\ud55c \ub4a4, \ud53c \uacb0\uacfc\ubb3c\uc758 \uccab\ubc88\uc9f8 \ubb38\uc790\ub97c \ubc18\ubcf5\ubb38\uc5d0\uc11c \ub530\uc640\uc11c str \ud615\uc758 s\uc5d0 \uc800\uc7a5\ud55c \ub4a4, upper()\ud568\uc218\ub97c \uc0ac\uc6a9\ud558\uc5ec \ub300\ubb38\uc790\ub85c \ub9cc\ub4e4\uc5b4\uc900\ub2e4.\n",
      "s = \"\"\ub97c \ud558\uc9c0 \uc54a\uace0 \uadf8\ub0e5 s\ub85c \uc120\uc5b8\ud560 \uacbd\uc6b0 \ud615\ud0dc\uc778\uc2dd \uc624\ub958\uac00 \uc0dd\uae34\ub2e4."
     ]
    },
    {
     "cell_type": "markdown",
     "metadata": {},
     "source": [
      "import string\n",
      "    - \uac00\uc7a5 \uae30\ubcf8\uc801\uc778 \ud615\ud0dc\n",
      "    - \uc774\ub984\uacf5\uac04\uc774 \uadf8\ub300\ub85c \uc720\uc9c0\ub418\ubbc0\ub85c sring.**()\uc758 \ud568\uc218\ud638\ucd9c \ud615\ud0dc\ub97c \ub744\uac8c \ub41c\ub2e4\n",
      "    - import\uc790\uccb4\ub294 \ucf54\ub4dc\ub97c \uac00\uc838\uc624\ub294\uac83\ub9cc \ud558\ub294 \uac83\uc774 \uc544\ub2c8\ub77c \ucf54\ub4dc\ub97c \ud638\ucd9c\ud558\uc5ec \uc218\ud589\ud55c\ub2e4\n",
      "\n",
      "from string import *\n",
      "    - \ubb34\uc790\uaca9\uc73c\ub85c \ud638\ucd9c\uc774 \uac00\ub2a5\ud558\ub2e4\n",
      "    - \ud574\ub2f9 \ubaa8\ub4c8\uc5d0 \uc874\uc7ac\ud558\ub294 '__'\ub85c \uc2dc\uc791\ub418\ub294 \uc774\ub984\ub4e4\uc744 \uc81c\uc678\ud55c \ubaa8\ub4e0 \uc774\ub984\ub4e4\uc744 \ud604\uc7ac \uc774\ub984 \uacf5\uac04\uc73c\ub85c \ubd88\ub7ec\ub4e4\uc778\ub2e4.\n",
      "\n",
      "\uac00\uc7a5 \ud070 \ucc28\uc774\uc810\uc740 \uc774\ub984\uc73c\ub85c \ud638\ucd9c\uc744\ud558\ub290\ub0d0 \ud639\uc740 \ubb34\uc790\uaca9\uc73c\ub85c \ud638\ucd9c\uc744 \ud558\ub290\ub0d0\ub85c \ubcf4\uc778\ub2e4.\n",
      "import\ub294 \ub2e8\uc21c\ud788 \ud638\ucd9c\ub9cc \ud558\ub294\uac83\uc774 \uc544\ub2c8\uace0, \ucf54\ub4dc\ub97c \uc218\ud589\ud558\uae30\uae4c\uc9c0 \ud55c\ub2e4.\n",
      "from\ub3c4 __ \ud615\ud0dc\uc758 \uc774\ub984\ub4e4\uc744 \uc81c\uc678\ud558\uace0 \uc9c1\uc811 \ud638\ucd9c\uc774\uac00\ub2a5\ud558\ub2e4.\n",
      "\n",
      "\uac00\uc7a5 \ud070 \ud2b9\uc9d5 \ubc0f \ucc28\uc774\uc810\uc740 \uc704 \uc138\uac00\uc9c0 \uc0ac\uc2e4\ub85c \ubcf4\uc785\ub2c8\ub2e4."
     ]
    },
    {
     "cell_type": "markdown",
     "metadata": {},
     "source": [
      "8\ubc88 9\ubc88\uc740 \uc9c4\ud589\uc911\uc5d0 \uacfc\uc81c \uc81c\ucd9c\uc2dc\uac04\uc774 \ub9c9\ubc14\uc9c0\ub77c\uc11c \uc81c\ucd9c\ud558\uc9c0 \ubabb\ud588\uc2b5\ub2c8\ub2e4. \ub9e4\uc6b0 \uc5b4\ub835\uc2b5\ub2c8\ub2e4. \uc8fc\ub9d0\ub0b4\ub0b4 \ud574\uc11c \ub2a6\uac8c\ub77c\ub3c4 \uc81c\ucd9c\uc744 \ud560 \uc608\uc815\uc785\ub2c8\ub2e4. \uc591\ud574 \ubd80\ud0c1\ub4dc\ub9bd\ub2c8\ub2e4. \ub098\uba38\uc9c0 \uacfc\uc81c\uc911\uc5d0\uc11c\ub294 Access\ucabd\uc774 \uc5b4\ub824\uc6e0\uc2b5\ub2c8\ub2e4. \ud2b9\ud788 10\uba85\uc758 \uc815\ubcf4\ub97c \uc800\uc7a5\ud55c Access\uc5d0 10\uc904\ub9cc \uc874\uc7ac\ud55c\ub2e4\ub294 \uc870\uac74\uc740 \ub9c8\uc9c0\ub9c9\uc5d0 \uac1c\ud589\ubb38\uc790\ub97c \ubb4d\uc5ec\ub123\uc740 \ud0d3\uc5d0 11\uc904\uc774 \uc874\uc7ac\ud558\uac8c \ub418\uc5b4 \uadf8 \uc870\uac74\uc744 \ub9cc\uc871\uc2dc\ud0a4\ub290\ub77c \uac1c\ud589\ubb38\uc790\ub85c \uc904\uc744 \uc138\uc9c0 \uc54a\uace0, ':' \uc73c\ub85c \ub77c\uc778\uc218\ub97c \uc138\uac8c\ub418\uc5c8\uc2b5\ub2c8\ub2e4. \ub098\uba38\uc9c0 \ucf54\ub4dc\ub4e4\uc740 \ud070 \uc5b4\ub824\uc6c0\uc774 \uc5c6\uc5c8\uace0, \uadf8\uac12\uc5d0\ub294 \ubb38\uc81c\uac00 \uc5c6\uc5c8\uc9c0\ub9cc Decimal \ubd80\ubd84\ub3c4 \ud574\uacb0\uc774 \ud544\uc694\ud558\ub2e4\uace0 \uc0dd\uac01\ud569\ub2c8\ub2e4.\n",
      "\n",
      "\ubaa8\ucabc\ub85d 8\ubc88 9\ubc88 \uc870\uc18d\ud788 \uc81c\ucd9c\ud558\ub3c4\ub85d \ud558\uaca0\uc2b5\ub2c8\ub2e4."
     ]
    }
   ],
   "metadata": {}
  }
 ]
}