{
 "metadata": {
  "name": "",
  "signature": "sha256:fc7eab9ecb231eee5c6144eec08c105cd64d72a7f73fd7264f8d8f34a31a4949"
 },
 "nbformat": 3,
 "nbformat_minor": 0,
 "worksheets": [
  {
   "cells": [
    {
     "cell_type": "code",
     "collapsed": false,
     "input": [
      "L = [1,2,3,4,5]\n",
      "L[1:3] = [100]\n",
      "print L\n",
      "#\ub9ac\uc2a4\ud2b8\ub294 \uc11c\ub85c\ub2e4\ub978 \ud06c\uae30\uc758 \ub9ac\uc2a4\ud2b8\uc640 \uc2ac\ub77c\uc774\uc2a4 \uce58\ud658\uc774 \uac00\ub2a5\ud558\ub2e4\n",
      "\n",
      "L = [1,2,3,4,5]\n",
      "L[1:3] = [(100)]\n",
      "print L\n",
      "#\ub9ac\uc2a4\ud2b8\ub294 \ud29c\ud50c\uc774 \uc6d0\uc18c\uc778 \uc11c\ub85c \ub2e4\ub978 \ud06c\uae30\uc758 \ub9ac\uc2a4\ud2b8\uc640 \uc2ac\ub77c\uc774\uc2a4 \uce58\ud658\uc774 \uac00\ub2a5\ud558\ub2e4.\n",
      "\n",
      "\"\"\"\n",
      "L = [1,2,3,4,5]\n",
      "L[1:3] = 100\n",
      "print L\n",
      "#\ub9ac\uc2a4\ud2b8\ub294 \uc77c\ubc18 int\ubcc0\uc218\ud615\uacfc \uc2ac\ub77c\uc774\uc2a4 \uce58\ud658\uc774 \ubd88\uac00\ub2a5\ud558\ub2e4\n",
      "\n",
      "\n",
      "L = [1,2,3,4,5]\n",
      "L[1:3] = (100)\n",
      "print L\n",
      "#\ub9ac\uc2a4\ud2b8\ub294 \ud06c\uae30\uac00 \ub2e4\ub978 \ud29c\ud50c\uacfc \uc2ac\ub77c\uc774\uc2a4 \uce58\ud658\uc774 \ubd88\uac00\ub2a5\ud558\ub2e4\n",
      "#\uc774 \uacbd\uc6b0\uc5d0\ub294 \ud55c\uac1c\uc758 \uc6d0\uc18c\ub9cc\uc744 \uac00\uc9c4 \ud29c\ud50c \uc790\uccb4\ub97c \ud558\ub098\uc758 \uc0c1\uc218\ub85c \uc778\uc2dd\ud558\uc5ec \uc0dd\uae30\ub294 \uc624\ub958\ub77c\uace0 \uc0dd\uac01\ub41c\ub2e4\n",
      "\"\"\"\n",
      "\n",
      "L = [1,2,3,4,5]\n",
      "L[1:3] = (100, 101, 102)\n",
      "print L\n",
      "#\ub9ac\uc2a4\ud2b8\ub294 \ud06c\uae30\uac00 \ub2e4\ub978 \ud29c\ud50c\uacfc \uc2ac\ub77c\uc774\uc2a4 \uce58\ud658\uc774 \uac00\ub2a5\ud558\ub2e4\n",
      "#\uc774 \uacbd\uc6b0\uc5d0\ub294 \uc5ec\ub824\uac1c\uc758 \uc6d0\uc18c\ub97c \uac00\uc9c4 \ud29c\ud50c\uc744 \ub9c8\uce58 \ub9ac\uc2a4\ud2b8\uc758 \ud615\ud0dc\ub85c \uc778\uc2dd\ud55c\ub2e4\uace0 \uc0dd\uac01\ud55c\ub2e4.\n",
      "\n",
      "\n",
      "L = [1,2,3,4,5]\n",
      "L[1:3] = [100, 101, 102]\n",
      "print L\n",
      "#\ub9ac\uc2a4\ud2b8\ub294 \ud06c\uae30\uac00 \uc11c\ub85c \ub2e4\ub978 \ub9ac\uc2a4\ud2b8\uc640 \uc2ac\ub77c\uc774\uc2a4 \uce58\ud658\uc774 \uac00\ub2a5\ud558\ub2e4\n",
      "\n",
      "L = [1,2,3,4,5]\n",
      "L[1:3] = [(100, 101, 102)]\n",
      "print L\n",
      "#\ub9ac\uc2a4\ud2b8\ub294 \ud29c\ud50c\uc744 \uc6d0\uc18c\ub85c \uac00\uc9c4 \uc11c\ub85c \ub2e4\ub978 \ud06c\uae30\uc758 \ub9ac\uc2a4\ud2b8\uc640 \uc2ac\ub77c\uc774\uc2a4 \uce58\ud658\uc774 \uac00\ub2a5\ud558\ub2e4\n",
      "#\ud29c\ud50c\uc740 \ud558\ub098\uc758 \uc6d0\uc18c\ub85c \ucde8\uae09\ubc1b\ub294\ub2e4\n",
      "\n",
      "L = [1,2,3,4,5]\n",
      "L[1:3] = [[100, 101, 102]]\n",
      "print L\n",
      "#\ub9ac\uc2a4\ud2b8\ub294 \ub9ac\uc2a4\ud2b8\ub97c \uc6d0\uc18c\ub85c \uac00\uc9c0\uace0 \uc788\ub294 \uc11c\ub85c \ub2e4\ub978 \ud06c\uae30\uc758 \ub9ac\uc2a4\ud2b8\uc640 \uc2ac\ub77c\uc774\uc2a4 \uce58\ud658\uc774 \uac00\ub2a5\ud558\ub2e4\n",
      "#\ub9ac\uc2a4\ud2b8\ub294 \ud558\ub098\uc758 \uc6d0\uc18c\ub85c \ucde8\uae09\ud55c\ub2e4."
     ],
     "language": "python",
     "metadata": {},
     "outputs": [
      {
       "output_type": "stream",
       "stream": "stdout",
       "text": [
        "[1, 100, 4, 5]\n",
        "[1, 100, 4, 5]\n",
        "[1, 100, 101, 102, 4, 5]\n",
        "[1, 100, 101, 102, 4, 5]\n",
        "[1, (100, 101, 102), 4, 5]\n",
        "[1, [100, 101, 102], 4, 5]\n"
       ]
      }
     ],
     "prompt_number": 3
    },
    {
     "cell_type": "markdown",
     "metadata": {},
     "source": [
      "\ub9ac\uc2a4\ud2b8 \ud29c\ud50c \uae30\ubcf8\uc0c1\uc218\ud615\uacfc\uc758 \uc2ac\ub77c\uc774\uc2a4\uce58\ud658 \uad00\uacc4\ub97c \uc5f0\uc2b5\ud574\ubcf4\ub294 \uc608\uc81c\ub85c, \uac01 \uad00\uacc4\uc5d0 \uc720\uc758\ud558\uba70 \ucf54\ub529\ud574\uc57c\ub428. \uc624\ub958\uac00 \ub098\ub294 \ubd80\ubd84\uc740 \uc8fc\uc11d\ucc98\ub9ac\ud558\uc5ec \ucf54\ub4dc \uc9c4\ud589\ud558\uc600\ub2e4."
     ]
    },
    {
     "cell_type": "code",
     "collapsed": false,
     "input": [
      "S = 'Hello World and Python'\n",
      "\n",
      "div_S = S.split(' ')\n",
      "par_S = [None] * len(div_S)\n",
      "i = 1 * len(div_S)\n",
      "\n",
      "for index in div_S:\n",
      "    i = i-1\n",
      "    par_S[i] = index\n",
      "        \n",
      "rev_S = ' '.join(par_S)\n",
      "print rev_S\n",
      "\n",
      "rev_S = ''.join(par_S)\n",
      "print rev_S"
     ],
     "language": "python",
     "metadata": {},
     "outputs": [
      {
       "output_type": "stream",
       "stream": "stdout",
       "text": [
        "Python and World Hello\n",
        "PythonandWorldHello\n"
       ]
      }
     ],
     "prompt_number": 10
    },
    {
     "cell_type": "markdown",
     "metadata": {},
     "source": [
      "plit\uc744 \ud1b5\ud574 \uacf5\ubc31\uc744 \uae30\uc900\uc73c\ub85c \ub2e8\uc5b4\ub97c \ub098\ub204\uc5b4\uc900\ub2e4. par_S = [None] * len(div_S) \uc774\uac83\uc740 \uacf5\uac04\uc5d0 \ub300\ud55c \ub3d9\uc801\ud560\ub2f9\uc774\ub77c\uace0 \uc5ec\uae30\uba74 \ub41c\ub2e4. \ud560\ub2f9\ub41c par_S\uc5d0 div_S\ub97c \ubc18\ubcf5\ud558\uc5ec \uc5ed\uc21c\uc73c\ub85c \ub123\uc5b4\uc8fc\uace0, \uadf8 \uc5ed\uc21c\uc73c\ub85c \ub4e4\uc5b4\uac04 par_S\uc5d0 \uacf5\ubc31\uc744 \ub354\ud574\uc11c \ub2e4\uc2dc \ud569\uccd0\uc8fc\ub294 \ucf54\ub4dc \"' '.join(par_S)\"\ub97c \uc801\uc6a9\ud55c rev_S\ub294 'Python and World Hello'\uc774 \ub418\uba70, \"''.join(par_S)\"\ub97c \uc801\uc6a9\ud558\uba74 \uacf5\ubc31\uc774 \uc5c6\uc774 \ud569\uccd0\uc9c0\uae30 \ub54c\ubb38\uc5d0 2)\uc758 \uc870\uac74\uc744 \ub9cc\uc871\ud558\uba70 'PythonandWorldHello'\uac00 \uc0dd\uc131\ub41c\ub2e4."
     ]
    },
    {
     "cell_type": "code",
     "collapsed": false,
     "input": [
      "a = [1, 2, 3]\n",
      "b = a * 3\n",
      "c = [a] * 3\n",
      "print b\n",
      "print c\n",
      "\n",
      "a[0]=0\n",
      "\n",
      "print b\n",
      "print c"
     ],
     "language": "python",
     "metadata": {},
     "outputs": [
      {
       "output_type": "stream",
       "stream": "stdout",
       "text": [
        "[1, 2, 3, 1, 2, 3, 1, 2, 3]\n",
        "[[1, 2, 3], [1, 2, 3], [1, 2, 3]]\n",
        "[1, 2, 3, 1, 2, 3, 1, 2, 3]\n",
        "[[0, 2, 3], [0, 2, 3], [0, 2, 3]]\n"
       ]
      }
     ],
     "prompt_number": 11
    },
    {
     "cell_type": "markdown",
     "metadata": {},
     "source": [
      "a\ubc30\uc5f4\uc758 \uac12\uc744 \ub2e8\uc21c\ud788 \ubcf5\uc0ac\ud558\uc5ec b\uc758 \ubc30\uc5f4\uc5d0 \ub123\uc740 \ubc30\uc5f4\uc774\ub2e4 \uc989 \uac12\uc774 \uac19\uc744 \ubfd0\uc774\uc9c0 \uc5f0\uad00\uc131\uc774 \uc5c6\ub2e4.\n",
      "c\uc5b8\uc5b4\uc758 \ud3ec\uc778\ud130\uc640 \ube44\uc2b7\ud55c \uac1c\ub150\uc73c\ub85c \uc0dd\uac01\ub41c\ub2e4. a\ubc30\uc5f4\uc758 \uac12\uc744 \ub2e8\uc21c\uc774 \ubcf5\uc0ac\ud574\uc11c \ub123\uc740 \uac83\uc774 \uc544\ub2c8\ub77c, \uc8fc\uc18c\uac12\uc73c\ub85c \ubc1b\uc544\uc640\uc11c \uadf8 \uac12\uc774 \ubcc0\ud558\uba74 \uac19\uc774 \ubcc0\ud558\uac8c \uc124\uc815\ub418\uc5b4 \uc788\ub2e4. \uc989 a\ubc30\uc5f4\uc5d0\uc11c \uac12\uc744 \uac00\uc838\uc624\ub294 \uac83\uc774\ub2e4."
     ]
    },
    {
     "cell_type": "code",
     "collapsed": false,
     "input": [
      "s = '  first star   :   second star   :    third star  '\n",
      "l = ['first star', 'second star', 'third star']#\uc6d0\ud558\ub294 \uacb0\uacfc\uac12\n",
      "\n",
      "new_s_1 = ''#\ube48 \ubb38\uc790\uc5f4 \uc0dd\uc131\n",
      "new_s_2 = ''\n",
      "for index in s:#\ubb38\uc790\uc5f4 \ubc18\ubcf5\n",
      "    if(index != ' '):\n",
      "        new_s_1 = new_s_1 + index#\ubb38\uc790\uc5f4\uc911 \ube48\uce78\uc774 \uc544\ub2c8\ub77c\uba74 \uc0c8\ub85c\uc6b4 \ubb38\uc790\uc5f4\uc5d0 \uc0bd\uc785\ud568\n",
      "\n",
      "new_s_2 = [k for k in s if k != '']#\ub9ac\uc2a4\ud2b8\ub0b4\ud3ec \uc774\uc6a9\n",
      "\n",
      "div_S_1 = new_s_1.split(':')#\ubb38\uc790\uc5f4\uc744 : \uc73c\ub85c \ub098\ub214\n",
      "div_S_2 = new_s_1.split(':')\n",
      "print div_S_1\n",
      "print div_S_2"
     ],
     "language": "python",
     "metadata": {},
     "outputs": [
      {
       "output_type": "stream",
       "stream": "stdout",
       "text": [
        "['firststar', 'secondstar', 'thirdstar']\n",
        "['firststar', 'secondstar', 'thirdstar']\n"
       ]
      }
     ],
     "prompt_number": 13
    },
    {
     "cell_type": "markdown",
     "metadata": {},
     "source": [
      "\uacf5\ud1b5\uc801\uc778 \uc791\uc5c5\uc73c\ub85c\ub294 \ube48\uce78\uc744 \uc81c\uac70\ud558\ub294 \ubb38\uc7a5\uc744 \ub9cc\ub4e0\ub2e4\ub294 \uac83\uc774\ub2e4. \uadf8\ub798\uc57c \ub2e8\uc5b4\ub85c \ub098\ub204\uae30 \uc218\uc6d4\ud558\ub2e4. \n",
      "\uccab\ubc88\uc9f8 for\ubb38\uc740 \ubb38\uc7a5\uc758 \ubb38\uc790\ub97c \ube44\uad50\ud588\uc744 \ub54c \ube48\uce78\uc774 \uc544\ub2c8\ub77c\uba74 \ubb38\uc7a5 new_s_1\uc5d0 \ucd94\uac00\ud574\uc8fc\ub294 \uac83\uc774\ub2e4.\n",
      "\ub450\ubc88\uc9f8 \ub9ac\uc2a4\ud2b8\ub0b4\ud3ec\ud615\ud0dc\ub294 new_s_2\uc5d0 k\ub97c \uc0bd\uc785\ud558\ub294\ub370, \uadf8 k\ub294 \ubb38\uc7a5 s\uc758 \uc694\uc18c\uc774\uba70, \uadf8 \uc694\uc18c\ub294 for\ubb38\uc73c\ub85c \ubc18\ubcf5\ub41c\ub2e4. \uadf8\ub9ac\uace0 \ucd94\uac00\ub97c \ud558\ub294 \uc870\uac74\uc740 k\uac00 \ube48\uce78\uc774 \uc544\ub2c8\uc5b4\uc57c \ud55c\ub2e4.\n",
      "\n",
      "\uadf8\ub9ac\uace0  ':'\uc740 \ube48\uce78\uc740 \uc544\ub2c8\uc9c0\ub9cc \ub2e8\uc5b4\uad6c\uc131\uc0c1 \uc5c6\uc5b4\uc57c \ud568\uacfc \ub3d9\uc2dc\uc5d0 \ubd84\ub2e8\uc810\uc774 \ub418\uc5b4\uc57c \ud558\ubbc0\ub85c, split\ud568\uc218\ub97c ':'\ub97c \uae30\uc900\uc73c\ub85c \ub098\ub220\uc900\ub2e4."
     ]
    },
    {
     "cell_type": "code",
     "collapsed": false,
     "input": [
      "def addall_1(list):# for in \ub9ac\ud130\ub7f4\n",
      "    sum_addall_1 = 0#def\ubc16\uc5d0\uc11c \uc0dd\uc131\ud558\uba74 \uc778\uc2dd \ubabb\ud568 \uc65c\uc77c\uae4c\uc694?\n",
      "    for index in list:\n",
      "        sum_addall_1 = sum_addall_1 + index\n",
      "    return sum_addall_1\n",
      "\n",
      "def addall_2(list):\n",
      "    sum = 0\n",
      "    sum = [list]\n",
      "    list = [ sum + list[i] for i in len(list)]\n",
      "    print sum\n",
      "    return list\n",
      "    \n",
      "\n",
      "def addallodd_1(list):\n",
      "    sum_addallodd_1 = 0\n",
      "    for index in list:\n",
      "        if(index %2 == 1):\n",
      "            sum_addallodd_1 = sum_addallodd_1 + index\n",
      "    return sum_addallodd_1\n",
      "print addall_1([1,2,3,4,5])\n",
      "print addallodd_1([1,2,3,4,5,6,7,9])"
     ],
     "language": "python",
     "metadata": {},
     "outputs": []
    },
    {
     "cell_type": "markdown",
     "metadata": {},
     "source": [
      "\uc77c\ubc18 \ubc18\ubcf5\ubb38\uc758 \uacbd\uc6b0\uc5d0 list\uac12\uc744 \ubc18\ubcf5\ubb38\uc73c\ub85c \ub3cc\ub824\uc11c sum \ubcc0\uc218\uc5d0 \ucd94\uac00\ud574\uc8fc\ub294 \uac04\ub2e8\ud55c \uad6c\ud604\uc774\uba70, odd\uc758 \uacbd\uc6b0\uc5d0\ub294 \uc870\uac74\ubb38 'if(index %2 == 1'\uc744 \ud1b5\ud574 \uac04\ub2e8\ud788 \uad6c\ud560 \uc218 \uc788\ub2e4."
     ]
    },
    {
     "cell_type": "code",
     "collapsed": false,
     "input": [
      "L1 = [1, 2, 3]\n",
      "L2 = [4, 5, 6]\n",
      "d = {'low':L1, 'high':L2}\n",
      "e = d\n",
      "f = d.copy()\n",
      "print d \n",
      "print e\n",
      "print f\n",
      "print\n",
      "d['low'] = [10, 20, 30]\n",
      "d['high'][1] = 500\n",
      "print d\n",
      "print e\n",
      "print f"
     ],
     "language": "python",
     "metadata": {},
     "outputs": [
      {
       "output_type": "stream",
       "stream": "stdout",
       "text": [
        "{'high': [4, 5, 6], 'low': [1, 2, 3]}\n",
        "{'high': [4, 5, 6], 'low': [1, 2, 3]}\n",
        "{'high': [4, 5, 6], 'low': [1, 2, 3]}\n",
        "\n",
        "{'high': [4, 500, 6], 'low': [10, 20, 30]}\n",
        "{'high': [4, 500, 6], 'low': [10, 20, 30]}\n",
        "{'high': [4, 500, 6], 'low': [1, 2, 3]}\n"
       ]
      }
     ],
     "prompt_number": 14
    },
    {
     "cell_type": "markdown",
     "metadata": {},
     "source": [
      "copy\ub294 \uc774\uc804\uac12\uc5d0 \uc804\ud600 \uad00\uc5ec\ub418\uc9c0 \uc54a\uc740 \ucc44 \ubcf5\uc0ac\ud55c\ub2e4\n",
      "\ub2e8\uc6d0\uc5d0\ub294 \uc0ac\uc804\ubcf5\uc0ac, \uc9d1\ud569\uc758 shallow\ubcf5\uc0ac \ub77c\uace0 \uae30\uc220\ub418\uc5b4\uc788\ub2e4\n",
      "C\uc5b8\uc5b4\uc5d0\uc11c\ub294 \uc55d\uc740 \ubcf5\uc0ac\ub77c\ub294 \uac1c\ub150\uc73c\ub85c \uc775\ud614\uc73c\uba70, \uc11c\ub85c\uc758 \uac12\uc5d0 \ub300\ud574 \uc544\ubb34\ub7f0 \uc601\ud5a5\uc744 \ubbf8\uce58\uc9c0 \uc54a\ub294\ub2e4.\n",
      "\uc55e\uc5d0\uc11c \ud29c\ud50c\uacfc \ub9ac\uc2a4\ud2b8\ub4e4\uc758 \uc5f0\uc0b0\uc744 \uc9c4\ud589\ud588\uc5c8\ub294\ub370, \uc8fc\uc18c\uae4c\uc9c0 \ubcf5\uc0ac\ud558\uc5ec \uae4a\uc740 \ubcf5\uc0ac\uac00 \ub41c \uacbd\uc6b0\uac00 \uc788\uc5c8\ub2e4. \uadf8\uac83\uacfc \ud615\ud0dc\ub294 \ub2e4\ub974\uc9c0\ub9cc, \uadf8 \ubcf5\uc0ac\uc758 \uc758\ubbf8\ub294 \ube44\uc2b7\ud558\ub9ac\ub77c\uace0 \uc0dd\uac01\ud55c\ub2e4."
     ]
    },
    {
     "cell_type": "code",
     "collapsed": false,
     "input": [
      "items = d.items()\n",
      "\n",
      "print \"key\uac12\uc73c\ub85c \uc21c\ucc28\uc815\ub82c\"\n",
      "for i in sorted(items, key=lambda key:key[0]):#key[0]\uc740 key\uac12\uc73c\ub85c key[1]\uc740 value\ub85c sort\ud55c\ub2e4\n",
      "    print i,\n",
      "print\n",
      "\n",
      "print \"key\uac12\uc73c\ub85c \uc5ed\uc21c\ucc28\uc815\ub82c\"\n",
      "for i in sorted(items, key=lambda key:key[0], reverse = True):#reverse = True\ub294 \uc5ed\uc21c\uc73c\ub85c \ud574\uc8fc\ub294 \uba85\ub839\n",
      "    print i,\n",
      "print\n",
      "\n",
      "print \"value\uac12\uc73c\ub85c \uc21c\ucc28\uc815\ub82c\"\n",
      "for i in sorted(items, key=lambda key:key[1]):\n",
      "    print i,\n",
      "print\n",
      "\n",
      "print \"value\uac12\uc73c\ub85c \uc5ed\uc21c\ucc28\uc815\ub82c\"\n",
      "for i in sorted(items, key=lambda key:key[1], reverse = True):\n",
      "    print i,\n",
      "print"
     ],
     "language": "python",
     "metadata": {},
     "outputs": [
      {
       "output_type": "stream",
       "stream": "stdout",
       "text": [
        "key\uac12\uc73c\ub85c \uc21c\ucc28\uc815\ub82c\n",
        "('high', [4, 500, 6]) ('low', [10, 20, 30])\n",
        "key\uac12\uc73c\ub85c \uc5ed\uc21c\ucc28\uc815\ub82c\n",
        "('low', [10, 20, 30]) ('high', [4, 500, 6])\n",
        "value\uac12\uc73c\ub85c \uc21c\ucc28\uc815\ub82c\n",
        "('high', [4, 500, 6]) ('low', [10, 20, 30])\n",
        "value\uac12\uc73c\ub85c \uc5ed\uc21c\ucc28\uc815\ub82c\n",
        "('low', [10, 20, 30]) ('high', [4, 500, 6])\n"
       ]
      }
     ],
     "prompt_number": 15
    },
    {
     "cell_type": "markdown",
     "metadata": {},
     "source": [
      "sorted(\uc815\ub82c\uc744 \ud560 \ub9ac\uc2a4\ud2b8, \ub9ac\uc2a4\ud2b8\uc5d0\uc11c \uc815\ub82c\uc744 \ud560 \uc694\uc18c, \uc5ed\uc21c\uc720\ubb34)\uc758 \uad6c\uc870\ub85c \ub418\uc5b4\uc788\ub2e4.\n",
      "\ucd95\uc57d\ud568\uc218 lambda\ub294 \uc774\ub984 \uc815\uc758 \uc5c6\uc774 \ud568\uc218\ub97c \uac04\ub2e8\ud558\uac8c \uc0dd\uc131, \ucd9c\ub825\ud55c\ub2e4.\ub77c\uace0 \uae30\uc220\ub418\uc5b4 \uc788\ub2e4. "
     ]
    },
    {
     "cell_type": "markdown",
     "metadata": {},
     "source": [
      "\uc218\uc5c5\uc5d0\uc11c\ub294 \ubb34\uc791\uc815 \ub530\ub77c\ud558\ub2e4\ubcf4\ub2c8 \uc0dd\uac01\uc744 \uc798 \uc548\ud558\uace0 \ub530\ub77c\ud558\uac8c \ub429\ub2c8\ub2e4. \uc544\ubb34\ub798\ub3c4 \uc218\uc5c5\uc5d0 \ub530\ub77c\uac00\ub294\uac83\uc5d0 \ubc85\ucc28\uc11c \uadf8\ub807\ub2e4\uace0 \uc0dd\uac01\ub429\ub2c8\ub2e4. \ucc98\uc74c\uc5d0\ub294 \ubcc4 \ub0b4\uc6a9\uc774 \uc5c6\uc5c8\ub2e4\uace0 \uc0dd\uac01\ud588\ub294\ub370, \ub9c9\uc0c1 \ud574\ubcf4\ub2c8 \uc591\uc774 \ub9ce\uc2b5\ub2c8\ub2e4. \uc880\ub354 \ub178\ub825\ud574\uc57c\uaca0\uc2b5\ub2c8\ub2e4.\n",
      " \ud29c\ud50c\uacfc \ub9ac\uc2a4\ud2b8\uc640 \uc77c\ubc18 \ubcc0\uc218\uc5d0 \ub300\ud574\uc11c \uc5f0\uc0b0\uc774 \ub418\uace0, \uc548\ub418\ub294 \uad00\uacc4\uac00 \uc0dd\uac01\ubcf4\ub2e4 \ub9ce\uc774 \ubcf5\uc7a1\ud569\ub2c8\ub2e4. \uc0ac\uc2e4 \ud29c\ube14\uacfc \ub9ac\uc2a4\ud2b8\uc758 \uc815\ubc00\ud55c \ucc28\uc774\ub3c4 \uc544\uc9c1 \uac1c\ub150\uc774 \uc548\uc7a1\ud600\uc788\ub2e4\ub294 \uc0ac\uc2e4\uc744 \uacfc\uc81c\ub97c \ud1b5\ud574 \uc54c\uac8c\ub418\uc5b4\uc11c \uc774\uc810\uc5d0 \ub300\ud574\uc11c \uc880\ub354 \uc720\uc758\ud574\uc11c \uacf5\ubd80\ud574\uc57c \ub420\uac83 \uac19\uace0, \uc0ac\uc804 \ub2e8\uc6d0\ucabd\uc758 \uba85\ub839\uc5b4\ub4e4\uc774 \uc5b4\ub824\uc6b4 \uac1c\ub150\uc740 \ubcc4\ub85c \uc5c6\uc9c0\ub9cc, \uc591\uc774 \ub9ce\uc544\uc11c \uc775\uc219\ud574\uc9c0\ub294\ub370\uc5d0 \uc2dc\uac04\uc774 \uc880 \uac78\ub9b4\uac83 \uac19\uc2b5\ub2c8\ub2e4. \uc801\ub2f9\ud55c \uc554\uae30\uac00 \ud544\uc694\ud560\uac83 \uac19\uc2b5\ub2c8\ub2e4. \ub9c8\uc9c0\ub9c9\uc73c\ub85c \uc544\uc9c1 8\ubc88\uc744 \ubabb\ud574\uc11c \uac1c\uc778\uc801\uc73c\ub85c \uc880 \uc548\ud0c0\uae5d\uace0, \ube68\ub9ac \ub05d\ub0b4\uc11c \ube44\ub85d \uc2dc\uac04\uc774 \ucd08\uacfc \ub418\uc5c8\uc9c0\ub9cc \uc81c\ucd9c\ud558\ub3c4\ub85d \ud558\uaca0\uc2b5\ub2c8\ub2e4. \uc774\ubc88 \uacfc\uc81c\uac00 \uc2dc\ud5d8\uacf5\ubd80\uc5d0\ub3c4 \ub3c4\uc6c0\uc774 \ub9ce\uc774 \ub418\uc5c8\uace0, \uacfc\uc81c\uac19\uc740 \ubb38\uc81c\uac00 \uc2dc\ud5d8\uc5d0 \ub098\uc624\uba74 \ud2c0\ub9ac\ub294 \uc77c\uc774 \uc5c6\ub3c4\ub85d \uacf5\ubd80\ud558\uaca0\uc2b5\ub2c8\ub2e4. \n",
      "p.s def\uc548\uc5d0\uc11c \ubcc0\uc218\ub97c \uc0dd\uc131\ud558\ub294 \uac83\uacfc \ubc16\uc5d0\uc11c \uc0dd\uc131\ud558\ub294 \uac83\uc774 \ucc28\uc774\uac00 \uc788\uc744\uc904\uc740 \ubab0\ub790\uc2b5\ub2c8\ub2e4."
     ]
    }
   ],
   "metadata": {}
  }
 ]
}